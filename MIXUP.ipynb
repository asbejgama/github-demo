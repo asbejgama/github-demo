{
  "nbformat": 4,
  "nbformat_minor": 0,
  "metadata": {
    "colab": {
      "name": "MIXUP.ipynb",
      "provenance": [],
      "collapsed_sections": [],
      "authorship_tag": "ABX9TyODbCgX9/K7Sf9R2KVeSaDQ",
      "include_colab_link": true
    },
    "kernelspec": {
      "name": "python3",
      "display_name": "Python 3"
    },
    "language_info": {
      "name": "python"
    }
  },
  "cells": [
    {
      "cell_type": "markdown",
      "metadata": {
        "id": "view-in-github",
        "colab_type": "text"
      },
      "source": [
        "<a href=\"https://colab.research.google.com/github/asbejgama/github-demo/blob/master/MIXUP.ipynb\" target=\"_parent\"><img src=\"https://colab.research.google.com/assets/colab-badge.svg\" alt=\"Open In Colab\"/></a>"
      ]
    },
    {
      "cell_type": "code",
      "metadata": {
        "id": "dxCgcISFq14a"
      },
      "source": [
        "def fibonacci(n):\n",
        "  if n == 0 or n == 1:\n",
        "    return n\n",
        "  return fibonacci(n-1) + fibonacci(n-2)"
      ],
      "execution_count": null,
      "outputs": []
    },
    {
      "cell_type": "code",
      "metadata": {
        "colab": {
          "base_uri": "https://localhost:8080/"
        },
        "id": "z7jxyQ8TrgWm",
        "outputId": "5818a3ac-ee04-4746-cd95-ce0d4bcfb0d5"
      },
      "source": [
        "fibonacci(6)"
      ],
      "execution_count": null,
      "outputs": [
        {
          "output_type": "execute_result",
          "data": {
            "text/plain": [
              "8"
            ]
          },
          "metadata": {
            "tags": []
          },
          "execution_count": 5
        }
      ]
    },
    {
      "cell_type": "code",
      "metadata": {
        "id": "eSFwxHH8rpKE"
      },
      "source": [
        "def isperfectsquare(n):\n",
        "  r = 0\n",
        "  while r * r < n :\n",
        "    r += 1\n",
        "    print(r*r)\n",
        "  return r * r == n"
      ],
      "execution_count": null,
      "outputs": []
    },
    {
      "cell_type": "code",
      "metadata": {
        "colab": {
          "base_uri": "https://localhost:8080/"
        },
        "id": "OJVJnIXkvA71",
        "outputId": "f2aa8dfd-0ad6-4358-bb5b-d1cf82f9a0a2"
      },
      "source": [
        "print(isperfectsquare(16),isperfectsquare(4))"
      ],
      "execution_count": null,
      "outputs": [
        {
          "output_type": "stream",
          "text": [
            "1\n",
            "4\n",
            "9\n",
            "16\n",
            "1\n",
            "4\n",
            "True True\n"
          ],
          "name": "stdout"
        }
      ]
    },
    {
      "cell_type": "code",
      "metadata": {
        "id": "zMmkX9NGriod"
      },
      "source": [
        "def granger(n):\n",
        "  while n > 0:\n",
        "    if n % 2 == 1:\n",
        "      return False\n",
        "    n //= 10\n",
        "  return True"
      ],
      "execution_count": null,
      "outputs": []
    },
    {
      "cell_type": "code",
      "metadata": {
        "colab": {
          "base_uri": "https://localhost:8080/"
        },
        "id": "iNF3wKYwzFsV",
        "outputId": "9b59b740-cd56-4ece-e2ab-bebdb9819e3f"
      },
      "source": [
        "granger(10)"
      ],
      "execution_count": null,
      "outputs": [
        {
          "output_type": "execute_result",
          "data": {
            "text/plain": [
              "False"
            ]
          },
          "metadata": {
            "tags": []
          },
          "execution_count": 2
        }
      ]
    },
    {
      "cell_type": "markdown",
      "metadata": {
        "id": "sToPCZJjRwVy"
      },
      "source": [
        "Basic Operations in Python"
      ]
    },
    {
      "cell_type": "code",
      "metadata": {
        "id": "u7jssp8ABRDk",
        "colab": {
          "base_uri": "https://localhost:8080/"
        },
        "outputId": "3159b053-df2e-429e-9046-09dd82b9114f"
      },
      "source": [
        "17//4 # integer division"
      ],
      "execution_count": null,
      "outputs": [
        {
          "output_type": "execute_result",
          "data": {
            "text/plain": [
              "4"
            ]
          },
          "metadata": {
            "tags": []
          },
          "execution_count": 3
        }
      ]
    },
    {
      "cell_type": "code",
      "metadata": {
        "colab": {
          "base_uri": "https://localhost:8080/"
        },
        "id": "9uPJYKnHdgiI",
        "outputId": "11cc2df1-c251-400e-dc18-0e0134900b12"
      },
      "source": [
        "17/4 #float division"
      ],
      "execution_count": null,
      "outputs": [
        {
          "output_type": "execute_result",
          "data": {
            "text/plain": [
              "4.25"
            ]
          },
          "metadata": {
            "tags": []
          },
          "execution_count": 4
        }
      ]
    },
    {
      "cell_type": "code",
      "metadata": {
        "colab": {
          "base_uri": "https://localhost:8080/"
        },
        "id": "M8Bx9wLrdhm7",
        "outputId": "1e1c940a-7577-4950-f233-a976db4f77b9"
      },
      "source": [
        "print(17%4) # reminder"
      ],
      "execution_count": null,
      "outputs": [
        {
          "output_type": "stream",
          "text": [
            "1\n"
          ],
          "name": "stdout"
        }
      ]
    },
    {
      "cell_type": "code",
      "metadata": {
        "colab": {
          "base_uri": "https://localhost:8080/"
        },
        "id": "XcoRQ3Z4dlsE",
        "outputId": "0ef475f0-6a87-404a-c0ba-812428fb3cc8"
      },
      "source": [
        "print(10 ** 2 * 7 - 3)\n",
        "print(10 ** (2 * 7) - 3)\n",
        "print(10 ** (2 * 7 - 3))"
      ],
      "execution_count": null,
      "outputs": [
        {
          "output_type": "stream",
          "text": [
            "697\n",
            "99999999999997\n",
            "100000000000\n"
          ],
          "name": "stdout"
        }
      ]
    },
    {
      "cell_type": "code",
      "metadata": {
        "colab": {
          "base_uri": "https://localhost:8080/"
        },
        "id": "k8ULgkdDddPr",
        "outputId": "0e71f837-c338-4239-eb79-13302e66063e"
      },
      "source": [
        "a = 123456789 \n",
        "b = a ** 2\n",
        "print(b,end ='\\n')\n",
        "c = b ** 3\n",
        "print(c,end = '\\n')\n",
        "d = c ** 4\n",
        "print(d,end = '\\n')\n",
        "e = d ** 5\n",
        "print(e,end = '\\n')\n",
        "print(len(str(e)))"
      ],
      "execution_count": null,
      "outputs": [
        {
          "output_type": "stream",
          "text": [
            "15241578750190521\n",
            "3540705968149597751242378595390670323015412790761\n",
            "157166308290967624614434966485493540963726721698403428784891012586974258380350906625255961242443130286157885664260857440235952354925000777353590796274952836151639520964606157865934675160485092641\n",
            "95895286347222034791086605662811969785387106853901346544483953642680116799305429392916328044803964544906412568173586838975389693889466931724787382602209026851413718672992500945459050967973754074446682840115185173491232894943036718270805266686475439556591818306146142541531042457606878440869168972012200929781450791973866289435058898863980805449821148199924662026572772426330363272818353600292677639914650163602402387046082945396504228157351617787966026866638977428336270761039733807499229574152744708406709999198108421875593674670017724918532931998179661679487371607921869488779614480174654183050554148246295513430972687654798140382162446340357982348270186444388129720941541158390538541492685710752623852622720768334430468852097226917149171660953626254466986940765253382358001339174903296347169720023617297994349779160697050425373047121064748421434125128308764115407012030949147264066116731171517339637266846118243586757670417982965125332116703787163047835949441767799201\n",
            "971\n"
          ],
          "name": "stdout"
        }
      ]
    },
    {
      "cell_type": "code",
      "metadata": {
        "id": "qVk4re_TgAcn"
      },
      "source": [
        "p = divmod"
      ],
      "execution_count": null,
      "outputs": []
    },
    {
      "cell_type": "code",
      "metadata": {
        "colab": {
          "base_uri": "https://localhost:8080/"
        },
        "id": "U6Vb_rt2gkPc",
        "outputId": "16102091-1e7c-4d94-bd43-b4c5d8958361"
      },
      "source": [
        "p(17,5)"
      ],
      "execution_count": null,
      "outputs": [
        {
          "output_type": "execute_result",
          "data": {
            "text/plain": [
              "(3, 2)"
            ]
          },
          "metadata": {
            "tags": []
          },
          "execution_count": 11
        }
      ]
    },
    {
      "cell_type": "code",
      "metadata": {
        "colab": {
          "base_uri": "https://localhost:8080/"
        },
        "id": "5-2pbMDggmVP",
        "outputId": "b8fe29b8-f49a-4e22-86ab-86fe22265bf4"
      },
      "source": [
        "a = 12\n",
        "b = 5\n",
        "a += b\n",
        "print(a, b)\n",
        "a -= b\n",
        "print(a, b)\n",
        "a *= b\n",
        "print(a, b)"
      ],
      "execution_count": null,
      "outputs": [
        {
          "output_type": "stream",
          "text": [
            "17 5\n",
            "12 5\n",
            "60 5\n"
          ],
          "name": "stdout"
        }
      ]
    },
    {
      "cell_type": "code",
      "metadata": {
        "colab": {
          "base_uri": "https://localhost:8080/"
        },
        "id": "rQxMa3ZUirep",
        "outputId": "17292430-9b62-4e23-ec87-ef94cbf18653"
      },
      "source": [
        "a = 12\n",
        "b = 13\n",
        "print(a == b - 1,a == b, a != b, a < b, a >= b)"
      ],
      "execution_count": null,
      "outputs": [
        {
          "output_type": "stream",
          "text": [
            "True False True True False\n"
          ],
          "name": "stdout"
        }
      ]
    },
    {
      "cell_type": "code",
      "metadata": {
        "colab": {
          "base_uri": "https://localhost:8080/"
        },
        "id": "N9arPmRblMMa",
        "outputId": "76b5f04a-db39-4626-8979-6e859e54e12b"
      },
      "source": [
        "a = 12.9\n",
        "b = 3.6\n",
        "c = a + b\n",
        "d = a - b\n",
        "e = a * b #Watch out for the round off error!\n",
        "f = a / b\n",
        "print(a, b, c, d, e, f, sep=\"\\n\")"
      ],
      "execution_count": null,
      "outputs": [
        {
          "output_type": "stream",
          "text": [
            "12.9\n",
            "3.6\n",
            "16.5\n",
            "9.3\n",
            "46.440000000000005\n",
            "3.5833333333333335\n"
          ],
          "name": "stdout"
        }
      ]
    },
    {
      "cell_type": "code",
      "metadata": {
        "colab": {
          "base_uri": "https://localhost:8080/"
        },
        "id": "fat-T0fWlUBh",
        "outputId": "db61d447-4a89-4002-ea46-ca9b863dd513"
      },
      "source": [
        "##### UNDERSTAND FLOATING POINT IS ALWAYS APPROXIMATE!\n",
        "print(2/3)\n",
        "##### NEVER COMPARE floats FOR EQUALITY\n",
        "print(12.9 * 3.6 == 46.44)\n",
        "print(12.9 * 3.6 - 46.44)\n",
        "print(float(12.9 * 3.6 - 46.44))\n",
        "EPSILON = 0.0000001\n",
        "print(abs(12.9 * 3.6 - 46.44) <= EPSILON)"
      ],
      "execution_count": null,
      "outputs": [
        {
          "output_type": "stream",
          "text": [
            "0.6666666666666666\n",
            "False\n",
            "7.105427357601002e-15\n",
            "7.105427357601002e-15\n",
            "True\n"
          ],
          "name": "stdout"
        }
      ]
    },
    {
      "cell_type": "code",
      "metadata": {
        "id": "wdzB05KOlhNd"
      },
      "source": [
        "def decimal_str(x: float, decimals: int = 20) -> str:\n",
        "    return format(x, f\".{decimals}f\").lstrip().rstrip('0')"
      ],
      "execution_count": null,
      "outputs": []
    },
    {
      "cell_type": "code",
      "metadata": {
        "colab": {
          "base_uri": "https://localhost:8080/"
        },
        "id": "BsvGHCF8p9dJ",
        "outputId": "7740d84f-27d7-44c6-8836-45e2a36b91ca"
      },
      "source": [
        "print(decimal_str((12.9 * 3.6 - 46.44)))"
      ],
      "execution_count": null,
      "outputs": [
        {
          "output_type": "stream",
          "text": [
            "0.00000000000000710543\n"
          ],
          "name": "stdout"
        }
      ]
    },
    {
      "cell_type": "code",
      "metadata": {
        "id": "ftUq4N1FqGu3"
      },
      "source": [
        "z = 3-4j"
      ],
      "execution_count": null,
      "outputs": []
    },
    {
      "cell_type": "code",
      "metadata": {
        "colab": {
          "base_uri": "https://localhost:8080/"
        },
        "id": "UCvnxlMpOQDL",
        "outputId": "1882e851-d56d-41b3-a88e-00671cf316f6"
      },
      "source": [
        "print(z,z.real,z.imag,abs(z),sep = \"\\n\")"
      ],
      "execution_count": null,
      "outputs": [
        {
          "output_type": "stream",
          "text": [
            "(3-4j)\n",
            "3.0\n",
            "-4.0\n",
            "5.0\n"
          ],
          "name": "stdout"
        }
      ]
    },
    {
      "cell_type": "code",
      "metadata": {
        "id": "ATf1scV8OX4C"
      },
      "source": [
        ""
      ],
      "execution_count": null,
      "outputs": []
    },
    {
      "cell_type": "markdown",
      "metadata": {
        "id": "ZbYSxcfIQzKY"
      },
      "source": [
        "Conditonal statements in Python\n"
      ]
    },
    {
      "cell_type": "code",
      "metadata": {
        "colab": {
          "base_uri": "https://localhost:8080/"
        },
        "id": "uys4_N39Q0Mx",
        "outputId": "1e3ee65d-ec8f-41ad-f704-4960dc695f34"
      },
      "source": [
        "attendancePercentage = 70\n",
        "# In the code below the two print statements are one block. \n",
        "# They are indented by 4-spaces to conPythonvey that\n",
        "if attendancePercentage < 75:\n",
        "    print(\"Attendance requirement for Merit certificate not met\")\n",
        "    print(\"Partcipation Certificate only\")"
      ],
      "execution_count": null,
      "outputs": [
        {
          "output_type": "stream",
          "text": [
            "Attendance requirement for Merit certificate not met\n",
            "Partcipation Certificate only\n"
          ],
          "name": "stdout"
        }
      ]
    },
    {
      "cell_type": "code",
      "metadata": {
        "id": "WcuWFriTSBCm"
      },
      "source": [
        "attendancePercentage = 80\n",
        "# In the code below the two print statements are one block. \n",
        "# They are indented by 4-spaces to convey that\n",
        "if attendancePercentage < 75:\n",
        "    print(\"Attendance requirement for Merit certificate not met\")\n",
        "    print(\"Partcipation Certificate only\")"
      ],
      "execution_count": null,
      "outputs": []
    },
    {
      "cell_type": "markdown",
      "metadata": {
        "id": "Su0aIpQ4SOlp"
      },
      "source": [
        "as we can see nothing is printed"
      ]
    },
    {
      "cell_type": "code",
      "metadata": {
        "colab": {
          "base_uri": "https://localhost:8080/"
        },
        "id": "Ane-aPGcSEqQ",
        "outputId": "dab726c4-d3e2-42a5-94c4-1538e1b8ce92"
      },
      "source": [
        "attendancePercentage = 80\n",
        "\n",
        "if attendancePercentage < 75:\n",
        "    print(\"Attendance requirement for Merit certificate not met\")\n",
        "    print(\"Partcipation Certificate only\")\n",
        "else:\n",
        "    print(\"Attendance requirement for Merit certificate met\")\n",
        "    print(\"Verify grades\")"
      ],
      "execution_count": null,
      "outputs": [
        {
          "output_type": "stream",
          "text": [
            "Attendance requirement for Merit certificate met\n",
            "Verify grades\n"
          ],
          "name": "stdout"
        }
      ]
    },
    {
      "cell_type": "code",
      "metadata": {
        "colab": {
          "base_uri": "https://localhost:8080/"
        },
        "id": "SoUoGp9JSJAr",
        "outputId": "e51b7e81-b168-465f-862b-649fa114a433"
      },
      "source": [
        "attendancePercentage = 80\n",
        "gradePoints = 320\n",
        "if attendancePercentage < 75:\n",
        "    print(\"Attendance requirement for Merit certificate not met\")\n",
        "    print(\"Participation Certificate only\")\n",
        "elif gradePoints < 300:\n",
        "    print(\"Attendance requirement for Merit certificate met\")\n",
        "    print(\"But insufficient grade\")\n",
        "    print(\"Participation Certificate only\")\n",
        "else:\n",
        "    print(\"Attendance requirement for Merit certificate met\")\n",
        "    print(\"Grade Requirement for Merit Certificate met\")"
      ],
      "execution_count": null,
      "outputs": [
        {
          "output_type": "stream",
          "text": [
            "Attendance requirement for Merit certificate met\n",
            "Grade Requirement for Merit Certificate met\n"
          ],
          "name": "stdout"
        }
      ]
    },
    {
      "cell_type": "code",
      "metadata": {
        "colab": {
          "base_uri": "https://localhost:8080/"
        },
        "id": "PDQelQwzSLsX",
        "outputId": "a7ece996-e92d-49ee-a5f5-b1a1bfae1d3a"
      },
      "source": [
        "#Lets write a while loop to print numbers from 0 to 4 \n",
        "x = 0\n",
        "while x < 5:\n",
        "     print(x)\n",
        "     x += 1"
      ],
      "execution_count": null,
      "outputs": [
        {
          "output_type": "stream",
          "text": [
            "0\n",
            "1\n",
            "2\n",
            "3\n",
            "4\n"
          ],
          "name": "stdout"
        }
      ]
    },
    {
      "cell_type": "code",
      "metadata": {
        "id": "kpAU4KQrUKw-"
      },
      "source": [
        ""
      ],
      "execution_count": null,
      "outputs": []
    },
    {
      "cell_type": "markdown",
      "metadata": {
        "id": "xjvRsHplUSme"
      },
      "source": [
        "Combining conditions\n",
        "\n",
        "We can combine conditions using and, or and not operators"
      ]
    },
    {
      "cell_type": "code",
      "metadata": {
        "colab": {
          "base_uri": "https://localhost:8080/"
        },
        "id": "zO8G1k1wUUMw",
        "outputId": "2846ab96-6c4a-4780-effe-7c365e903886"
      },
      "source": [
        "attendancePercentage = 80\n",
        "gradePoints = 320\n",
        "if attendancePercentage >= 75 and gradePoints >= 300:\n",
        "    print(\"Attendance and grade requirement for Merit certificate met\")\n",
        "else: \n",
        "    print(\"Either attendance of grade (or both) insufficient\")\n",
        "    print(\"Participation certificate only\")"
      ],
      "execution_count": null,
      "outputs": [
        {
          "output_type": "stream",
          "text": [
            "Attendance and grade requirement for Merit certificate met\n"
          ],
          "name": "stdout"
        }
      ]
    },
    {
      "cell_type": "code",
      "metadata": {
        "id": "D0P5RO2KZSzR"
      },
      "source": [
        ""
      ],
      "execution_count": null,
      "outputs": []
    },
    {
      "cell_type": "markdown",
      "metadata": {
        "id": "P0U2DRXfZWsG"
      },
      "source": [
        "More on blocks\n",
        "\n",
        "blocks start below a line ending in :\n",
        "\n",
        "all lines in a block are indented (by 4 spaces)\n",
        "\n",
        "Nested blocks --> nested indenting\n",
        "\n",
        "End of block --> unindent"
      ]
    },
    {
      "cell_type": "code",
      "metadata": {
        "id": "PJX_DYWEZY1f"
      },
      "source": [
        "mark = 76\n",
        "if mark < 40:\n",
        "    status = \"Fail\"\n",
        "    letterGrade = \"F\"\n",
        "else:\n",
        "    status = \"Pass\"\n",
        "    if mark < 50:\n",
        "        letterGrade = \"D\"\n",
        "    elif mark < 60:\n",
        "        letterGrade = \"C\"\n",
        "    elif mark < 75:\n",
        "        letterGrade = \"B\"\n",
        "    elif mark < 90:\n",
        "        letterGrade = \"A\"\n",
        "    else:\n",
        "        letterGrade = \"A+\""
      ],
      "execution_count": null,
      "outputs": []
    },
    {
      "cell_type": "markdown",
      "metadata": {
        "id": "PPqU3dBzbwGj"
      },
      "source": [
        "Strings, Lists and For Loop in Python"
      ]
    },
    {
      "cell_type": "markdown",
      "metadata": {
        "id": "Pv86e7YLfEpV"
      },
      "source": [
        "strings\n",
        "\n",
        "Python strings can be enlosed in single quotes or double quotes or triple quotes! Let us look at each of them"
      ]
    },
    {
      "cell_type": "code",
      "metadata": {
        "colab": {
          "base_uri": "https://localhost:8080/"
        },
        "id": "62G-W7kqfIc9",
        "outputId": "a24a9994-f421-4a14-8ce6-3377b6050125"
      },
      "source": [
        "grading = \"Tests, Quizzes, Individual Labs, Group Labs and Hackathons\"\n",
        "print(grading)"
      ],
      "execution_count": null,
      "outputs": [
        {
          "output_type": "stream",
          "text": [
            "Tests, Quizzes, Individual Labs, Group Labs and Hackathons\n"
          ],
          "name": "stdout"
        }
      ]
    },
    {
      "cell_type": "code",
      "metadata": {
        "colab": {
          "base_uri": "https://localhost:8080/"
        },
        "id": "GWMH0cJEfLnZ",
        "outputId": "21fd3cca-045f-4483-adb1-f702c5e2ef4a"
      },
      "source": [
        "tests = \"CFU's, Analytical, References and Comprehension\"\n",
        "print(tests)"
      ],
      "execution_count": null,
      "outputs": [
        {
          "output_type": "stream",
          "text": [
            "CFU's, Analytical, References and Comprehension\n"
          ],
          "name": "stdout"
        }
      ]
    },
    {
      "cell_type": "code",
      "metadata": {
        "id": "v15PfhYkfl3l"
      },
      "source": [
        ""
      ],
      "execution_count": null,
      "outputs": []
    },
    {
      "cell_type": "markdown",
      "metadata": {
        "id": "bpuJ-DDlfu7f"
      },
      "source": [
        "Note how in the string tests the single quote is accepted as part of the string without any special escpae mechanism. Similarly we can create and use strings with double quotes inside by enclosing the whole string in single quotes. Here is an example."
      ]
    },
    {
      "cell_type": "code",
      "metadata": {
        "colab": {
          "base_uri": "https://localhost:8080/"
        },
        "id": "rHXuRFADfwp1",
        "outputId": "3ce323da-5271-4b2f-ba65-c9a48c1296e9"
      },
      "source": [
        "faq = 'Almost all ask the question \"What is the best k?\" when doing kNN'\n",
        "print(faq)"
      ],
      "execution_count": null,
      "outputs": [
        {
          "output_type": "stream",
          "text": [
            "Almost all ask the question \"What is the best k?\" when doing kNN\n"
          ],
          "name": "stdout"
        }
      ]
    },
    {
      "cell_type": "code",
      "metadata": {
        "id": "vBNFUcMwfx_b"
      },
      "source": [
        ""
      ],
      "execution_count": null,
      "outputs": []
    },
    {
      "cell_type": "markdown",
      "metadata": {
        "id": "Zue3L6e0gBE0"
      },
      "source": [
        "Triple quoted strings are best used for documentation. But they are useful for storing long strings.\n",
        "\n",
        "We can use single or double quotes\n",
        "We can also use single quotes or dowuble quotes within\n",
        "The line breaks etc are captured; that is there is no need for \\n"
      ]
    },
    {
      "cell_type": "code",
      "metadata": {
        "colab": {
          "base_uri": "https://localhost:8080/"
        },
        "id": "q1HgaAAvgCqS",
        "outputId": "7269ef50-17c9-4e6f-9c09-01a67e29fdbc"
      },
      "source": [
        "story = \"\"\"A long time ago, in a galaxy far far away ...\n",
        "\n",
        "It is a period of civil war. Rebel spaceships, striking \n",
        "from a hidden base, have won their first victory against \n",
        "the evil Galactic Empire.\n",
        "\n",
        "During the battle, Rebel spies managed to steal secret \n",
        "plans to the Empire's ultimate weapon, the DEATH STAR, \n",
        "an armored space station with enough power to destroy an entire planet.\n",
        "\n",
        "Pursued by the Empire's sinister agents, Princess Leia \n",
        "races home aboard her starship, custodian of the stolen \n",
        "plans that can save her people and restore freedom to the galaxy....\"\"\"\n",
        "print(story)"
      ],
      "execution_count": null,
      "outputs": [
        {
          "output_type": "stream",
          "text": [
            "A long time ago, in a galaxy far far away ...\n",
            "\n",
            "It is a period of civil war. Rebel spaceships, striking \n",
            "from a hidden base, have won their first victory against \n",
            "the evil Galactic Empire.\n",
            "\n",
            "During the battle, Rebel spies managed to steal secret \n",
            "plans to the Empire's ultimate weapon, the DEATH STAR, \n",
            "an armored space station with enough power to destroy an entire planet.\n",
            "\n",
            "Pursued by the Empire's sinister agents, Princess Leia \n",
            "races home aboard her starship, custodian of the stolen \n",
            "plans that can save her people and restore freedom to the galaxy....\n"
          ],
          "name": "stdout"
        }
      ]
    },
    {
      "cell_type": "code",
      "metadata": {
        "id": "YeoHpM8BgEed"
      },
      "source": [
        ""
      ],
      "execution_count": null,
      "outputs": []
    },
    {
      "cell_type": "markdown",
      "metadata": {
        "id": "muhbkeEMgWGb"
      },
      "source": [
        "Simple string operations\n",
        "Concatnate by +,\n",
        "multiple concatenation by *\n",
        "check for substring with in\n",
        "determine the size (number of characters) using len"
      ]
    },
    {
      "cell_type": "code",
      "metadata": {
        "colab": {
          "base_uri": "https://localhost:8080/",
          "height": 139
        },
        "id": "oZRcj042gX1s",
        "outputId": "b33c087d-9aa4-4fdf-9aa5-507ceae8c9a6"
      },
      "source": [
        "h = \"Hello\"\n",
        "w = \"world!\"\n",
        "hw = h + w\n",
        "print(hw)\n",
        "hsw = h + ' ' + w\n",
        "print(hsw)\n",
        "h4s3w2 = 4 * h + \" \" * 3 + w * 2\n",
        "print(h4s3w2)\n",
        "print(h in hsw)\n",
        "print(' ' in hw)\n",
        "print(len(h4s3w2))\n",
        "hw"
      ],
      "execution_count": null,
      "outputs": [
        {
          "output_type": "stream",
          "text": [
            "Helloworld!\n",
            "Hello world!\n",
            "HelloHelloHelloHello   world!world!\n",
            "True\n",
            "False\n",
            "35\n"
          ],
          "name": "stdout"
        },
        {
          "output_type": "execute_result",
          "data": {
            "application/vnd.google.colaboratory.intrinsic+json": {
              "type": "string"
            },
            "text/plain": [
              "'Helloworld!'"
            ]
          },
          "metadata": {
            "tags": []
          },
          "execution_count": 21
        }
      ]
    },
    {
      "cell_type": "code",
      "metadata": {
        "colab": {
          "base_uri": "https://localhost:8080/"
        },
        "id": "gSrPi14mggXJ",
        "outputId": "0f56877f-7c2c-4fc6-8262-511f8a88eb48"
      },
      "source": [
        "f = [1, 1, 2, 3, 5, 8]\n",
        "p = [2, 3, 5, 7]\n",
        "grading = [\"Tests\", \"Quizzes\", \"Individual Labs\", \"Group Labs\", \"Hackathons\"]\n",
        "grades = [300, 60, 120, 60, 120]\n",
        "oddjob = [1, 5.6, True, 4-7j, \"Hello\", [1, 2], [3.9, \"World\"]]\n",
        "for i,num in enumerate(f):\n",
        "  print(i,num)\n",
        "print(p[::-1])\n",
        "print(oddjob[::-1])\n",
        "\n",
        "p.append(10)\n",
        "print(p)"
      ],
      "execution_count": null,
      "outputs": [
        {
          "output_type": "stream",
          "text": [
            "0 1\n",
            "1 1\n",
            "2 2\n",
            "3 3\n",
            "4 5\n",
            "5 8\n",
            "[7, 5, 3, 2]\n",
            "[[3.9, 'World'], [1, 2], 'Hello', (4-7j), True, 5.6, 1]\n",
            "[2, 3, 5, 7, 10]\n"
          ],
          "name": "stdout"
        }
      ]
    },
    {
      "cell_type": "code",
      "metadata": {
        "colab": {
          "base_uri": "https://localhost:8080/"
        },
        "id": "sMRwQ-C6ifCz",
        "outputId": "f5b16b3a-dec6-4ad5-d1fa-1f7272859a2f"
      },
      "source": [
        "print(len(grading))"
      ],
      "execution_count": null,
      "outputs": [
        {
          "output_type": "stream",
          "text": [
            "5\n"
          ],
          "name": "stdout"
        }
      ]
    },
    {
      "cell_type": "code",
      "metadata": {
        "colab": {
          "base_uri": "https://localhost:8080/"
        },
        "id": "4gdkmM9qiUto",
        "outputId": "7a3e3e4b-3748-4d70-9e8a-df953fa5e8d0"
      },
      "source": [
        "# We access individual elements using the index\n",
        "# The first element is at index 0\n",
        "print(grades[1], oddjob[4])\n",
        "# We access the elements from the back using negative indices\n",
        "# -1 is the last, -2 is the last but one and so on\n",
        "print(grading[-1], grading[-3])"
      ],
      "execution_count": null,
      "outputs": [
        {
          "output_type": "stream",
          "text": [
            "60 Hello\n",
            "Hackathons Individual Labs\n"
          ],
          "name": "stdout"
        }
      ]
    },
    {
      "cell_type": "code",
      "metadata": {
        "colab": {
          "base_uri": "https://localhost:8080/"
        },
        "id": "tY4HODZ0FDH2",
        "outputId": "dfc2e422-04bb-4089-e168-b376bdc14caa"
      },
      "source": [
        "print(sum(f), sum(p))"
      ],
      "execution_count": null,
      "outputs": [
        {
          "output_type": "stream",
          "text": [
            "20 27\n"
          ],
          "name": "stdout"
        }
      ]
    },
    {
      "cell_type": "code",
      "metadata": {
        "colab": {
          "base_uri": "https://localhost:8080/"
        },
        "id": "bq9YD72nFLHQ",
        "outputId": "ab019796-bc70-4b5c-f458-23058850dae1"
      },
      "source": [
        "print(max(grades), min(grades))"
      ],
      "execution_count": null,
      "outputs": [
        {
          "output_type": "stream",
          "text": [
            "300 60\n"
          ],
          "name": "stdout"
        }
      ]
    },
    {
      "cell_type": "markdown",
      "metadata": {
        "id": "aJTeafwMFpeV"
      },
      "source": [
        "For\n",
        "\n",
        "We can step through the items in a collection, such as a list or string (and many others) using for"
      ]
    },
    {
      "cell_type": "code",
      "metadata": {
        "colab": {
          "base_uri": "https://localhost:8080/"
        },
        "id": "m7Lx8EpMFrqV",
        "outputId": "79aa9351-f47f-4af3-ea0a-72641a3e57e3"
      },
      "source": [
        "for num in f:\n",
        "    print(num)"
      ],
      "execution_count": null,
      "outputs": [
        {
          "output_type": "stream",
          "text": [
            "1\n",
            "1\n",
            "2\n",
            "3\n",
            "5\n",
            "8\n"
          ],
          "name": "stdout"
        }
      ]
    },
    {
      "cell_type": "markdown",
      "metadata": {
        "id": "1izlNKnzF6Yn"
      },
      "source": [
        "for test in grading: print(test)\n",
        "\n",
        "Note the absence of the usual index variable etc. We can step through the characters in a string the same way"
      ]
    },
    {
      "cell_type": "code",
      "metadata": {
        "colab": {
          "base_uri": "https://localhost:8080/"
        },
        "id": "9fERjugOGDUP",
        "outputId": "5dd8c654-5461-4530-de71-25695fcbf388"
      },
      "source": [
        "for ch in \"Hello\":\n",
        "  print(ch,end = \" \")"
      ],
      "execution_count": null,
      "outputs": [
        {
          "output_type": "stream",
          "text": [
            "H e l l o "
          ],
          "name": "stdout"
        }
      ]
    },
    {
      "cell_type": "code",
      "metadata": {
        "id": "FvnuPVVzGKgu"
      },
      "source": [
        "#### List methods"
      ],
      "execution_count": null,
      "outputs": []
    },
    {
      "cell_type": "code",
      "metadata": {
        "colab": {
          "base_uri": "https://localhost:8080/"
        },
        "id": "nlpGHDcBGNKb",
        "outputId": "6cb72215-8bb5-41f3-eb7f-fd954e2459ce"
      },
      "source": [
        "print(f)"
      ],
      "execution_count": null,
      "outputs": [
        {
          "output_type": "stream",
          "text": [
            "[1, 1, 2, 3, 5, 8]\n"
          ],
          "name": "stdout"
        }
      ]
    },
    {
      "cell_type": "code",
      "metadata": {
        "id": "UStivgIoGO32"
      },
      "source": [
        "f.append(13)"
      ],
      "execution_count": null,
      "outputs": []
    },
    {
      "cell_type": "code",
      "metadata": {
        "colab": {
          "base_uri": "https://localhost:8080/"
        },
        "id": "qolWs1c9GRdU",
        "outputId": "085a25fd-af35-4cce-f668-87de4c16978e"
      },
      "source": [
        "f"
      ],
      "execution_count": null,
      "outputs": [
        {
          "output_type": "execute_result",
          "data": {
            "text/plain": [
              "[1, 1, 2, 3, 5, 8, 13]"
            ]
          },
          "metadata": {
            "tags": []
          },
          "execution_count": 13
        }
      ]
    },
    {
      "cell_type": "code",
      "metadata": {
        "id": "YBP-FOwdGSNX"
      },
      "source": [
        "f.extend([12,13,14,15])"
      ],
      "execution_count": null,
      "outputs": []
    },
    {
      "cell_type": "code",
      "metadata": {
        "colab": {
          "base_uri": "https://localhost:8080/"
        },
        "id": "C10NJpAUGZvc",
        "outputId": "39cb0ee0-6b4e-4a9d-b4df-c0d6726a06d0"
      },
      "source": [
        "f"
      ],
      "execution_count": null,
      "outputs": [
        {
          "output_type": "execute_result",
          "data": {
            "text/plain": [
              "[1, 1, 2, 3, 5, 8, 13, 12, 13, 14, 15]"
            ]
          },
          "metadata": {
            "tags": []
          },
          "execution_count": 15
        }
      ]
    },
    {
      "cell_type": "code",
      "metadata": {
        "colab": {
          "base_uri": "https://localhost:8080/"
        },
        "id": "_Do9BsyeGaFL",
        "outputId": "0e53801e-0d4f-40a3-86c9-95eaf29cb0ad"
      },
      "source": [
        "p"
      ],
      "execution_count": null,
      "outputs": [
        {
          "output_type": "execute_result",
          "data": {
            "text/plain": [
              "[2, 3, 5, 7, 10]"
            ]
          },
          "metadata": {
            "tags": []
          },
          "execution_count": 16
        }
      ]
    },
    {
      "cell_type": "code",
      "metadata": {
        "id": "rtlKjclEGe3-"
      },
      "source": [
        "p = p + [12,13,14,15]"
      ],
      "execution_count": null,
      "outputs": []
    },
    {
      "cell_type": "code",
      "metadata": {
        "colab": {
          "base_uri": "https://localhost:8080/"
        },
        "id": "67_aCIScGhjd",
        "outputId": "9d0d4f41-1fba-48c5-85de-073a85d99852"
      },
      "source": [
        "p"
      ],
      "execution_count": null,
      "outputs": [
        {
          "output_type": "execute_result",
          "data": {
            "text/plain": [
              "[2, 3, 5, 7, 10, 12, 13, 14, 15]"
            ]
          },
          "metadata": {
            "tags": []
          },
          "execution_count": 18
        }
      ]
    },
    {
      "cell_type": "markdown",
      "metadata": {
        "id": "U1T6fMMlG0X7"
      },
      "source": [
        "#### Slicing\n",
        "We can get substrings and sublists using a slice"
      ]
    },
    {
      "cell_type": "code",
      "metadata": {
        "colab": {
          "base_uri": "https://localhost:8080/"
        },
        "id": "eK85m6D8G2SL",
        "outputId": "eb4ee0db-e818-4512-d638-71013ffebd6a"
      },
      "source": [
        "print(f)\n",
        "print(f[2:7])\n",
        "print(f[2:11:3])\n",
        "print(p)\n",
        "print(p[::-1])"
      ],
      "execution_count": null,
      "outputs": [
        {
          "output_type": "stream",
          "text": [
            "[1, 1, 2, 3, 5, 8, 13, 12, 13, 14, 15]\n",
            "[2, 3, 5, 8, 13]\n",
            "[2, 8, 13]\n",
            "[2, 3, 5, 7, 10, 12, 13, 14, 15]\n",
            "[15, 14, 13, 12, 10, 7, 5, 3, 2]\n"
          ],
          "name": "stdout"
        }
      ]
    },
    {
      "cell_type": "code",
      "metadata": {
        "colab": {
          "base_uri": "https://localhost:8080/"
        },
        "id": "C7C1BmbbG4kH",
        "outputId": "b54ff7a1-8207-4863-cbfa-287cf3aeae91"
      },
      "source": [
        "# We can slice strings too\n",
        "print(h4s3w2[11:26])\n",
        "print(hsw[2::3])\n",
        "print(hw[::-1])\n",
        "type(hw)"
      ],
      "execution_count": null,
      "outputs": [
        {
          "output_type": "stream",
          "text": [
            "elloHello   wor\n",
            "l r!\n",
            "!dlrowolleH\n"
          ],
          "name": "stdout"
        },
        {
          "output_type": "execute_result",
          "data": {
            "text/plain": [
              "str"
            ]
          },
          "metadata": {
            "tags": []
          },
          "execution_count": 22
        }
      ]
    },
    {
      "cell_type": "markdown",
      "metadata": {
        "id": "7Jb9TFBqHRmn"
      },
      "source": [
        "# Advanced Certification Program in Computational Data Science\n",
        "## A program by IISc and TalentSprint\n",
        "### Notebook D: Functions in Python"
      ]
    },
    {
      "cell_type": "code",
      "metadata": {
        "id": "BvGBkvUdHTO9"
      },
      "source": [
        "def square(n):\n",
        "  return n * n"
      ],
      "execution_count": null,
      "outputs": []
    },
    {
      "cell_type": "code",
      "metadata": {
        "colab": {
          "base_uri": "https://localhost:8080/"
        },
        "id": "wU1Ei6jtH6Og",
        "outputId": "33dd5650-50d3-45c8-e3a9-86a104514f0d"
      },
      "source": [
        "square(5)"
      ],
      "execution_count": null,
      "outputs": [
        {
          "output_type": "execute_result",
          "data": {
            "text/plain": [
              "25"
            ]
          },
          "metadata": {
            "tags": []
          },
          "execution_count": 34
        }
      ]
    },
    {
      "cell_type": "code",
      "metadata": {
        "colab": {
          "base_uri": "https://localhost:8080/"
        },
        "id": "DNWJchdKH7JV",
        "outputId": "08c49a25-3fcf-42e8-cc10-38c83847b9e0"
      },
      "source": [
        "square(7.1)"
      ],
      "execution_count": null,
      "outputs": [
        {
          "output_type": "execute_result",
          "data": {
            "text/plain": [
              "50.41"
            ]
          },
          "metadata": {
            "tags": []
          },
          "execution_count": 25
        }
      ]
    },
    {
      "cell_type": "code",
      "metadata": {
        "colab": {
          "base_uri": "https://localhost:8080/"
        },
        "id": "lYTJOhdgH9dA",
        "outputId": "db7f0942-afc9-4901-b3f6-8a2ccdd3e30c"
      },
      "source": [
        "print(square(7j))"
      ],
      "execution_count": null,
      "outputs": [
        {
          "output_type": "stream",
          "text": [
            "(-49+0j)\n"
          ],
          "name": "stdout"
        }
      ]
    },
    {
      "cell_type": "code",
      "metadata": {
        "id": "u40DHrrMPiZ3"
      },
      "source": [
        "def is_prime(n):\n",
        "  if n in [2,3]:\n",
        "    return True\n",
        "  if n % 2 == 0:\n",
        "    return False\n",
        "  r = 5\n",
        "  while r * r <= n:\n",
        "    if n % r == 0:\n",
        "      return False\n",
        "    else:\n",
        "      return True\n",
        "    r += 2\n"
      ],
      "execution_count": null,
      "outputs": []
    },
    {
      "cell_type": "code",
      "metadata": {
        "colab": {
          "base_uri": "https://localhost:8080/"
        },
        "id": "oVC9tMpVXSb3",
        "outputId": "561d102c-b58c-4469-ee4e-1f4ec3c9f432"
      },
      "source": [
        "print(is_prime(37))"
      ],
      "execution_count": null,
      "outputs": [
        {
          "output_type": "stream",
          "text": [
            "True\n"
          ],
          "name": "stdout"
        }
      ]
    },
    {
      "cell_type": "code",
      "metadata": {
        "id": "2LmWpHvwXZno"
      },
      "source": [
        "def vowelCount(s):\n",
        "    \"\"\"Counts the number of vowels in s and returns the same\n",
        "    Ignores case of letters\"\"\"\n",
        "    vowels = 'aeiouAEIOU'\n",
        "    vc = 0\n",
        "    for ch in s:\n",
        "      if ch in vowels:\n",
        "        vc += 1\n",
        "    print(vc)"
      ],
      "execution_count": null,
      "outputs": []
    },
    {
      "cell_type": "code",
      "metadata": {
        "colab": {
          "base_uri": "https://localhost:8080/"
        },
        "id": "raK9KiXygWLM",
        "outputId": "e1819a8e-5e86-4888-f325-6ac7b4ff9f27"
      },
      "source": [
        "vowelCount(\"hi hou are you\")"
      ],
      "execution_count": null,
      "outputs": [
        {
          "output_type": "stream",
          "text": [
            "7\n"
          ],
          "name": "stdout"
        }
      ]
    },
    {
      "cell_type": "code",
      "metadata": {
        "colab": {
          "base_uri": "https://localhost:8080/"
        },
        "id": "3Cx0YF0dgZh6",
        "outputId": "1f9e1ef1-9450-44fe-a287-11a3fab17cc9"
      },
      "source": [
        "print(vowelCount(\"The quick brown fox jumps over the lazy dog\"))"
      ],
      "execution_count": null,
      "outputs": [
        {
          "output_type": "stream",
          "text": [
            "11\n",
            "None\n"
          ],
          "name": "stdout"
        }
      ]
    },
    {
      "cell_type": "code",
      "metadata": {
        "id": "satvRLKZgSFv"
      },
      "source": [
        "def vowelCount1(s):\n",
        "    \"\"\"Counts the number of vowels in s and returns the same\n",
        "    Ignores case of letters\"\"\"\n",
        "    vowels = 'aeiouAEIOU'\n",
        "    vc = 0\n",
        "    for ch in s:\n",
        "      if ch in vowels:\n",
        "        vc += 1\n",
        "    return vc"
      ],
      "execution_count": null,
      "outputs": []
    },
    {
      "cell_type": "code",
      "metadata": {
        "colab": {
          "base_uri": "https://localhost:8080/"
        },
        "id": "4_SeO384gtAi",
        "outputId": "f3f67628-0a1f-4e38-95bc-0301efa8fe5a"
      },
      "source": [
        "print(vowelCount1(\"The quick brown fox jumps over the lazy dog\"))"
      ],
      "execution_count": null,
      "outputs": [
        {
          "output_type": "stream",
          "text": [
            "11\n"
          ],
          "name": "stdout"
        }
      ]
    },
    {
      "cell_type": "code",
      "metadata": {
        "id": "RE0UoXFRqCYP"
      },
      "source": [
        "vowelCount?"
      ],
      "execution_count": null,
      "outputs": []
    },
    {
      "cell_type": "code",
      "metadata": {
        "id": "jI1owb-Ig3n3"
      },
      "source": [
        "vowelCount1?"
      ],
      "execution_count": null,
      "outputs": []
    },
    {
      "cell_type": "markdown",
      "metadata": {
        "id": "jHJlu1BVhF9N"
      },
      "source": [
        "#### Recursion\n",
        "Recursion is also pretty simple."
      ]
    },
    {
      "cell_type": "code",
      "metadata": {
        "colab": {
          "base_uri": "https://localhost:8080/"
        },
        "id": "a6Q6cNrThIxY",
        "outputId": "de721546-1c3d-4f8b-b813-7250719d4bc8"
      },
      "source": [
        "2 //2"
      ],
      "execution_count": null,
      "outputs": [
        {
          "output_type": "execute_result",
          "data": {
            "text/plain": [
              "1"
            ]
          },
          "metadata": {
            "tags": []
          },
          "execution_count": 17
        }
      ]
    },
    {
      "cell_type": "code",
      "metadata": {
        "colab": {
          "base_uri": "https://localhost:8080/"
        },
        "id": "xWtZTjpei1nQ",
        "outputId": "b0167015-766f-45ec-b702-5d0e9dc399f1"
      },
      "source": [
        "4//2"
      ],
      "execution_count": null,
      "outputs": [
        {
          "output_type": "execute_result",
          "data": {
            "text/plain": [
              "2"
            ]
          },
          "metadata": {
            "tags": []
          },
          "execution_count": 18
        }
      ]
    },
    {
      "cell_type": "code",
      "metadata": {
        "id": "3uvsagIOi3AZ"
      },
      "source": [
        "def isPowerOf2(n):\n",
        "    \"\"\"Checks if a number is a power of 2. \n",
        "    That is, verifies if an integer p exists such that n == 2 ** p\n",
        "    Remember 1 is 2 ** 0    \"\"\"\n",
        "    if n == 1:\n",
        "      return True\n",
        "    if n % 2 == 1:\n",
        "      return False\n",
        "    return isPowerOf2(n//2)"
      ],
      "execution_count": null,
      "outputs": []
    },
    {
      "cell_type": "code",
      "metadata": {
        "colab": {
          "base_uri": "https://localhost:8080/"
        },
        "id": "ZeNwgacejDOs",
        "outputId": "ec3ace8d-281b-40a3-dedb-f5bcd1eb483f"
      },
      "source": [
        "isPowerOf2(16)"
      ],
      "execution_count": null,
      "outputs": [
        {
          "output_type": "execute_result",
          "data": {
            "text/plain": [
              "True"
            ]
          },
          "metadata": {
            "tags": []
          },
          "execution_count": 20
        }
      ]
    },
    {
      "cell_type": "code",
      "metadata": {
        "colab": {
          "base_uri": "https://localhost:8080/"
        },
        "id": "paYh0KojjFm-",
        "outputId": "59f31d40-7820-4cb6-bc22-efa13615ea82"
      },
      "source": [
        "isPowerOf2(344)"
      ],
      "execution_count": null,
      "outputs": [
        {
          "output_type": "execute_result",
          "data": {
            "text/plain": [
              "False"
            ]
          },
          "metadata": {
            "tags": []
          },
          "execution_count": 21
        }
      ]
    },
    {
      "cell_type": "markdown",
      "metadata": {
        "id": "FxTfFFadjPCF"
      },
      "source": [
        "Python functions can return multiple values. The simplest example is the built-in function divmod"
      ]
    },
    {
      "cell_type": "code",
      "metadata": {
        "colab": {
          "base_uri": "https://localhost:8080/"
        },
        "id": "JdJGv8f_jRe5",
        "outputId": "0c865cca-1dd2-46ab-cc29-4e4f6efee1f4"
      },
      "source": [
        "divmod(17,5)"
      ],
      "execution_count": null,
      "outputs": [
        {
          "output_type": "execute_result",
          "data": {
            "text/plain": [
              "(3, 2)"
            ]
          },
          "metadata": {
            "tags": []
          },
          "execution_count": 22
        }
      ]
    },
    {
      "cell_type": "code",
      "metadata": {
        "id": "IM38BdNQjVI5"
      },
      "source": [
        "quotient,reminder = divmod(17,5)"
      ],
      "execution_count": null,
      "outputs": []
    },
    {
      "cell_type": "code",
      "metadata": {
        "colab": {
          "base_uri": "https://localhost:8080/"
        },
        "id": "ADvIm2Dpjbj7",
        "outputId": "06585cb4-05ab-4c11-d8ad-bb880438724b"
      },
      "source": [
        "print(quotient,reminder)"
      ],
      "execution_count": null,
      "outputs": [
        {
          "output_type": "stream",
          "text": [
            "3 2\n"
          ],
          "name": "stdout"
        }
      ]
    },
    {
      "cell_type": "code",
      "metadata": {
        "colab": {
          "base_uri": "https://localhost:8080/"
        },
        "id": "Sup1c5SzjnQI",
        "outputId": "a99122a6-0dd0-415c-89ff-45cf22578daa"
      },
      "source": [
        "c = divmod(17, 5)\n",
        "print(c[0])\n",
        "print(c[1])\n",
        "print(c)"
      ],
      "execution_count": null,
      "outputs": [
        {
          "output_type": "stream",
          "text": [
            "3\n",
            "2\n",
            "(3, 2)\n"
          ],
          "name": "stdout"
        }
      ]
    },
    {
      "cell_type": "code",
      "metadata": {
        "id": "fshdMRyvjote"
      },
      "source": [
        "# our own implementation of divmod\n",
        "def quotrem(n,d):\n",
        "  return n//d, n % d"
      ],
      "execution_count": null,
      "outputs": []
    },
    {
      "cell_type": "code",
      "metadata": {
        "colab": {
          "base_uri": "https://localhost:8080/"
        },
        "id": "UT232ZOukaIb",
        "outputId": "f53c33b5-62f4-4146-82cf-bc9526c8e6b5"
      },
      "source": [
        "quotrem(33,4)"
      ],
      "execution_count": null,
      "outputs": [
        {
          "output_type": "execute_result",
          "data": {
            "text/plain": [
              "(8, 1)"
            ]
          },
          "metadata": {
            "tags": []
          },
          "execution_count": 29
        }
      ]
    },
    {
      "cell_type": "markdown",
      "metadata": {
        "id": "-BIHN4Keks8z"
      },
      "source": [
        "#### Higher Order Functions\n",
        "Python functions are first class objects. They can be assigned to variables, passed to functions as parameters and returned from functions!"
      ]
    },
    {
      "cell_type": "code",
      "metadata": {
        "id": "qq07dqE0kvMN"
      },
      "source": [
        "f1 = square"
      ],
      "execution_count": null,
      "outputs": []
    },
    {
      "cell_type": "code",
      "metadata": {
        "colab": {
          "base_uri": "https://localhost:8080/"
        },
        "id": "GmG6ya3Rk3Od",
        "outputId": "4f1058b1-e600-4dae-892c-ada6ae092853"
      },
      "source": [
        "f1(4)"
      ],
      "execution_count": null,
      "outputs": [
        {
          "output_type": "execute_result",
          "data": {
            "text/plain": [
              "16"
            ]
          },
          "metadata": {
            "tags": []
          },
          "execution_count": 36
        }
      ]
    },
    {
      "cell_type": "code",
      "metadata": {
        "id": "-gF5t9sgk4Da"
      },
      "source": [
        "# New way of writing function in latest version of Python\n",
        "\n",
        "def cube(n: int) -> [int]:\n",
        "  return n ** 3"
      ],
      "execution_count": null,
      "outputs": []
    },
    {
      "cell_type": "code",
      "metadata": {
        "colab": {
          "base_uri": "https://localhost:8080/"
        },
        "id": "2jziZ1uVmHX8",
        "outputId": "521747c6-4fbd-493c-b634-6e73e17d7a94"
      },
      "source": [
        "cube(3)"
      ],
      "execution_count": null,
      "outputs": [
        {
          "output_type": "execute_result",
          "data": {
            "text/plain": [
              "27"
            ]
          },
          "metadata": {
            "tags": []
          },
          "execution_count": 38
        }
      ]
    },
    {
      "cell_type": "markdown",
      "metadata": {
        "id": "GOKn8ag1mVmY"
      },
      "source": [
        "### Notebook E: Built-in Functions in Python\n",
        "#### Aggregate Functions\n",
        "* len(iterable)\n",
        "* max(iterable)\n",
        "* min(iterable)\n",
        "* sorted(iterable[, key][, reverse])\n",
        "* sum(iterable[, start])"
      ]
    },
    {
      "cell_type": "code",
      "metadata": {
        "id": "hxCNUQMbmIf6"
      },
      "source": [
        "f = [1, 1, 2, 3, 5, 8, 13, 21, 34, 55, 89]\n",
        "g = [7, 12, -4, 17, 12, 11, 0, 9, 21, 6, 13]"
      ],
      "execution_count": null,
      "outputs": []
    },
    {
      "cell_type": "code",
      "metadata": {
        "colab": {
          "base_uri": "https://localhost:8080/"
        },
        "id": "fVVKWqc3mkFN",
        "outputId": "6455bd9b-5392-422f-abb5-f3e588205c14"
      },
      "source": [
        "print(len(f),len(g),min(f),max(g))"
      ],
      "execution_count": null,
      "outputs": [
        {
          "output_type": "stream",
          "text": [
            "11 11 1 21\n"
          ],
          "name": "stdout"
        }
      ]
    },
    {
      "cell_type": "code",
      "metadata": {
        "colab": {
          "base_uri": "https://localhost:8080/"
        },
        "id": "9JWrKNlwmpYq",
        "outputId": "b5e77f84-ae43-4d4e-ee88-a0808e7b8df8"
      },
      "source": [
        "print(sorted(f))"
      ],
      "execution_count": null,
      "outputs": [
        {
          "output_type": "stream",
          "text": [
            "[1, 1, 2, 3, 5, 8, 13, 21, 34, 55, 89]\n"
          ],
          "name": "stdout"
        }
      ]
    },
    {
      "cell_type": "code",
      "metadata": {
        "colab": {
          "base_uri": "https://localhost:8080/"
        },
        "id": "nK_-ZZBumuGH",
        "outputId": "a937c679-e932-4217-d218-73d16adc4fe2"
      },
      "source": [
        "print(f[::-1])"
      ],
      "execution_count": null,
      "outputs": [
        {
          "output_type": "stream",
          "text": [
            "[89, 55, 34, 21, 13, 8, 5, 3, 2, 1, 1]\n"
          ],
          "name": "stdout"
        }
      ]
    },
    {
      "cell_type": "code",
      "metadata": {
        "colab": {
          "base_uri": "https://localhost:8080/"
        },
        "id": "xskQa7lzkjQY",
        "outputId": "12447658-2448-428d-cb2d-c7ff3f94ec2e"
      },
      "source": [
        "print(sorted(f[::-1]))"
      ],
      "execution_count": null,
      "outputs": [
        {
          "output_type": "stream",
          "text": [
            "[1, 1, 2, 3, 5, 8, 13, 21, 34, 55, 89]\n"
          ],
          "name": "stdout"
        }
      ]
    },
    {
      "cell_type": "code",
      "metadata": {
        "colab": {
          "base_uri": "https://localhost:8080/"
        },
        "id": "bkbsilD6nHJX",
        "outputId": "7ac3651d-36be-41fc-f06e-196a414146a7"
      },
      "source": [
        "sum(f)"
      ],
      "execution_count": null,
      "outputs": [
        {
          "output_type": "execute_result",
          "data": {
            "text/plain": [
              "232"
            ]
          },
          "metadata": {
            "tags": []
          },
          "execution_count": 46
        }
      ]
    },
    {
      "cell_type": "markdown",
      "metadata": {
        "id": "ITfbHC2sps5l"
      },
      "source": [
        "#### Extended Boolean\n",
        "* all(iterable)\n",
        "* any(iterable)\n",
        "\n",
        "Think of these as **and**, **or** for lists of booleans"
      ]
    },
    {
      "cell_type": "code",
      "metadata": {
        "colab": {
          "base_uri": "https://localhost:8080/"
        },
        "id": "d6kfaqNapu22",
        "outputId": "6281c6f3-15c0-4ca9-bb06-2b156ef5d8d4"
      },
      "source": [
        "x = [2 > 3, 5 < 7, False, \"Hello\" == \"World\"]\n",
        "print(all(x))\n",
        "print(any(x))"
      ],
      "execution_count": null,
      "outputs": [
        {
          "output_type": "stream",
          "text": [
            "False\n",
            "True\n"
          ],
          "name": "stdout"
        }
      ]
    },
    {
      "cell_type": "code",
      "metadata": {
        "colab": {
          "base_uri": "https://localhost:8080/"
        },
        "id": "582FGcb3p0YJ",
        "outputId": "4183471d-c4ef-465e-cff9-796cca15af2b"
      },
      "source": [
        "y = [23 < 44, 44< 55,\"d\" == \"y\"]\n",
        "print(all(y))\n",
        "print(any(y))"
      ],
      "execution_count": null,
      "outputs": [
        {
          "output_type": "stream",
          "text": [
            "False\n",
            "True\n"
          ],
          "name": "stdout"
        }
      ]
    },
    {
      "cell_type": "markdown",
      "metadata": {
        "id": "vg50ibNSqcNL"
      },
      "source": [
        "#### Mathematical\n",
        " * abs()\n",
        " * divmod(number, divideBy)\n",
        " * pow(number, exponent)\n",
        " * round(floatVal[, places])"
      ]
    },
    {
      "cell_type": "code",
      "metadata": {
        "colab": {
          "base_uri": "https://localhost:8080/"
        },
        "id": "VIwVQNSjqc1J",
        "outputId": "791fc017-100a-48cd-a89b-3e1000403e10"
      },
      "source": [
        "print(abs(-7))\n",
        "print(abs(3+4j))"
      ],
      "execution_count": null,
      "outputs": [
        {
          "output_type": "stream",
          "text": [
            "7\n",
            "5.0\n"
          ],
          "name": "stdout"
        }
      ]
    },
    {
      "cell_type": "code",
      "metadata": {
        "colab": {
          "base_uri": "https://localhost:8080/"
        },
        "id": "alXcTeCEqgVr",
        "outputId": "ed617802-d0e8-4581-cbbd-7f1a1462f403"
      },
      "source": [
        "print(divmod(17, 4))\n",
        "print(divmod(-17, 4))"
      ],
      "execution_count": null,
      "outputs": [
        {
          "output_type": "stream",
          "text": [
            "(4, 1)\n",
            "(-5, 3)\n"
          ],
          "name": "stdout"
        }
      ]
    },
    {
      "cell_type": "code",
      "metadata": {
        "colab": {
          "base_uri": "https://localhost:8080/"
        },
        "id": "vMhLh8Ftq7je",
        "outputId": "0caacc29-d0d5-4eb3-987a-3c299d05912b"
      },
      "source": [
        "print(pow(3, 4))\n",
        "print(pow(3.2, 4))\n",
        "print(pow(4.3, -2.5))"
      ],
      "execution_count": null,
      "outputs": [
        {
          "output_type": "stream",
          "text": [
            "81\n",
            "104.85760000000002\n",
            "0.026081277564651822\n"
          ],
          "name": "stdout"
        }
      ]
    },
    {
      "cell_type": "code",
      "metadata": {
        "colab": {
          "base_uri": "https://localhost:8080/"
        },
        "id": "4H8wk9hVqXoy",
        "outputId": "25ac6289-3dbd-49a1-efd0-241b8fa61801"
      },
      "source": [
        "print(round(12.3/4.5, 2))\n",
        "print(round(12.3/4.5))"
      ],
      "execution_count": null,
      "outputs": [
        {
          "output_type": "stream",
          "text": [
            "2.73\n",
            "3\n"
          ],
          "name": "stdout"
        }
      ]
    },
    {
      "cell_type": "code",
      "metadata": {
        "colab": {
          "base_uri": "https://localhost:8080/"
        },
        "id": "dmA_MbYrqOwz",
        "outputId": "08956d6f-4e10-4ba5-b27b-edde1866c46f"
      },
      "source": [
        "12.3/4.5"
      ],
      "execution_count": null,
      "outputs": [
        {
          "output_type": "execute_result",
          "data": {
            "text/plain": [
              "2.7333333333333334"
            ]
          },
          "metadata": {
            "tags": []
          },
          "execution_count": 55
        }
      ]
    },
    {
      "cell_type": "code",
      "metadata": {
        "id": "cuhSIF_BnMRl"
      },
      "source": [
        ""
      ],
      "execution_count": null,
      "outputs": []
    },
    {
      "cell_type": "markdown",
      "metadata": {
        "id": "wdK94xfZtqBN"
      },
      "source": [
        "**bold text**#### Constructors and Converters\n",
        " * ascii()\n",
        " * bin()\n",
        " * bool()\n",
        " * chr()\n",
        " * complex()\n",
        " * float()\n",
        " * hex()\n",
        " * int()\n",
        " * list()\n",
        " * oct()\n",
        " * ord()\n",
        " * set()\n",
        " * str()\n",
        " * tuple()\n",
        "\n",
        " #### Functional, Higher Order\n",
        "* filter\n",
        "* map\n",
        "* zip"
      ]
    },
    {
      "cell_type": "code",
      "metadata": {
        "colab": {
          "base_uri": "https://localhost:8080/"
        },
        "id": "d0Y1mo46twuC",
        "outputId": "f4f5fb78-cfca-42e3-827f-5e64f363f6e8"
      },
      "source": [
        "print(bin(22),bool('a' > 'b'),chr(22),complex(3,4),float(2),hex(22),int(3/2),list(\"string\"),ord('S'))"
      ],
      "execution_count": null,
      "outputs": [
        {
          "output_type": "stream",
          "text": [
            "0b10110 False \u0016 (3+4j) 2.0 0x16 1 ['s', 't', 'r', 'i', 'n', 'g'] 83\n"
          ],
          "name": "stdout"
        }
      ]
    },
    {
      "cell_type": "code",
      "metadata": {
        "id": "ahf4q4ydtrt8"
      },
      "source": [
        "f = [ 1,  1,  2,  3,  5,  8, 13, 21, 34, 55, 89]\n",
        "p = [ 2,  3,  5,  7, 11, 13, 17, 19, 23, 29, 31,22] "
      ],
      "execution_count": null,
      "outputs": []
    },
    {
      "cell_type": "code",
      "metadata": {
        "id": "GYX7kcsqjeB4"
      },
      "source": [
        "def square(n):\n",
        "    return n * n\n",
        "def isEven(n):\n",
        "    return n % 2 == 0\n",
        "def isPowerOf2(n):\n",
        "    if n == 1: \n",
        "        return True\n",
        "    if n % 2 == 1:\n",
        "        return False\n",
        "    return isPowerOf2(n//2)"
      ],
      "execution_count": null,
      "outputs": []
    },
    {
      "cell_type": "code",
      "metadata": {
        "colab": {
          "base_uri": "https://localhost:8080/"
        },
        "id": "e2_UgI5RjId2",
        "outputId": "22ef3bbf-c088-4d72-cacd-7cc45959917a"
      },
      "source": [
        "print(list(filter(isEven,f)))\n",
        "print(list(filter(isPowerOf2,f)))\n",
        "print(list(filter(isEven,p)))"
      ],
      "execution_count": null,
      "outputs": [
        {
          "output_type": "stream",
          "text": [
            "[2, 8, 34]\n",
            "[1, 1, 2, 8]\n",
            "[2]\n"
          ],
          "name": "stdout"
        }
      ]
    },
    {
      "cell_type": "code",
      "metadata": {
        "colab": {
          "base_uri": "https://localhost:8080/"
        },
        "id": "4mFQWLB4hB4N",
        "outputId": "a950e470-fa19-43f6-a9c0-368ff56ee84d"
      },
      "source": [
        "print(list(zip(f,p)))"
      ],
      "execution_count": null,
      "outputs": [
        {
          "output_type": "stream",
          "text": [
            "[(1, 2), (1, 3), (2, 5), (3, 7), (5, 11), (8, 13), (13, 17), (21, 19), (34, 23), (55, 29), (89, 31)]\n"
          ],
          "name": "stdout"
        }
      ]
    },
    {
      "cell_type": "code",
      "metadata": {
        "colab": {
          "base_uri": "https://localhost:8080/"
        },
        "id": "PJ8S-YTN2fzq",
        "outputId": "deb6262f-1823-4a89-bb67-ad7bcf8f8ef1"
      },
      "source": [
        "grading = [\"Test\", \"Quiz\", \"Individual Lab\", \"Group Lab\", \"Hackathon\"]\n",
        "grades = [300, 60, 120, 60, 120]\n",
        "print(list(zip(grading, grades)))"
      ],
      "execution_count": null,
      "outputs": [
        {
          "output_type": "stream",
          "text": [
            "[('Test', 300), ('Quiz', 60), ('Individual Lab', 120), ('Group Lab', 60), ('Hackathon', 120)]\n"
          ],
          "name": "stdout"
        }
      ]
    },
    {
      "cell_type": "code",
      "metadata": {
        "colab": {
          "base_uri": "https://localhost:8080/"
        },
        "id": "mBiSlsFjhBAf",
        "outputId": "19a28068-f2f9-4133-a2ac-8665ce56d3e8"
      },
      "source": [
        "print(list(map(square,f)))\n",
        "print(list(map(cube,f)))"
      ],
      "execution_count": null,
      "outputs": [
        {
          "output_type": "stream",
          "text": [
            "[1, 1, 4, 9, 25, 64, 169, 441, 1156, 3025, 7921]\n",
            "[1, 1, 8, 27, 125, 512, 2197, 9261, 39304, 166375, 704969]\n"
          ],
          "name": "stdout"
        }
      ]
    },
    {
      "cell_type": "code",
      "metadata": {
        "colab": {
          "base_uri": "https://localhost:8080/"
        },
        "id": "icS5vO2s3BTQ",
        "outputId": "fc26143c-e112-42ae-8afc-63c11999b192"
      },
      "source": [
        "list(filter(isEven,f))"
      ],
      "execution_count": null,
      "outputs": [
        {
          "output_type": "execute_result",
          "data": {
            "text/plain": [
              "[2, 8, 34]"
            ]
          },
          "metadata": {
            "tags": []
          },
          "execution_count": 101
        }
      ]
    },
    {
      "cell_type": "code",
      "metadata": {
        "colab": {
          "base_uri": "https://localhost:8080/"
        },
        "id": "kYlD8wGq3Rp_",
        "outputId": "d0f6eb89-39af-442e-89bf-3bfd2ae47f8b"
      },
      "source": [
        "print(list(map(square,filter(isEven,f))))"
      ],
      "execution_count": null,
      "outputs": [
        {
          "output_type": "stream",
          "text": [
            "[4, 64, 1156]\n"
          ],
          "name": "stdout"
        }
      ]
    },
    {
      "cell_type": "markdown",
      "metadata": {
        "id": "gVXydHBI98aZ"
      },
      "source": [
        "Standard Libraries in Python\n",
        "#### math\n",
        "Adds the simple math functions such as sqrt, sine, cosine, etc. Also defines the constants such as $\\pi, \\tau$ and $e$"
      ]
    },
    {
      "cell_type": "code",
      "metadata": {
        "colab": {
          "base_uri": "https://localhost:8080/"
        },
        "id": "0uu0yMKh-Clx",
        "outputId": "de2daa5b-5025-4423-f868-0efa1daea517"
      },
      "source": [
        "import math\n",
        "print(math.sqrt(25))\n",
        "print(math.e, math.pi)\n",
        "print(math.gcd(52, 26))"
      ],
      "execution_count": null,
      "outputs": [
        {
          "output_type": "stream",
          "text": [
            "5.0\n",
            "2.718281828459045 3.141592653589793\n",
            "26\n"
          ],
          "name": "stdout"
        }
      ]
    },
    {
      "cell_type": "markdown",
      "metadata": {
        "id": "qHovMtSE-Qr5"
      },
      "source": [
        "#### random\n",
        "Provides random numbers and related functions. Not meant for crypto usage"
      ]
    },
    {
      "cell_type": "code",
      "metadata": {
        "colab": {
          "base_uri": "https://localhost:8080/"
        },
        "id": "m8fH_Eu_-SkQ",
        "outputId": "7ea2cfec-67bf-4ea8-da02-113647e5b2c7"
      },
      "source": [
        "import random\n",
        "print(random.random())\n",
        "def rollDice():\n",
        "  return random.randint(1,6)\n",
        "for i in range(10):\n",
        "  print(rollDice(),end = \", \")"
      ],
      "execution_count": 108,
      "outputs": [
        {
          "output_type": "stream",
          "text": [
            "0.1775799285367473\n",
            "2, 1, 6, 3, 4, 4, 3, 6, 4, 5, "
          ],
          "name": "stdout"
        }
      ]
    },
    {
      "cell_type": "markdown",
      "metadata": {
        "id": "AgJ0nEZGDlO0"
      },
      "source": [
        "#### os\n",
        "Provides hooks to operating system services. Probably the most used one is\n",
        "os.walk(DIRECTORY)\n",
        "#### Collections\n",
        "Provides a few specialised container classes. We will see a counter class soon\n",
        "itertools\n",
        "\n",
        "Provides iterator functions for efficient looping\n",
        "#### functools \n",
        "\n",
        "Provides tools for working with functions and other callable objects, to adapt or extend them for new purposes without completely rewriting them.\n",
        "\n",
        "## External Libraries\n",
        "\n",
        "\n",
        "**numpy** Array handling abilities; the foundation for all other scientific and Machine Learning algorithm implementations\n",
        "\n",
        "**scipy** This is not a single library. It is a collection scientific computational modules such as linear algebra, statistics, ODE solvers, optimizers, special functions and so on.\n",
        "\n",
        "**matplotlib** The comprehensive and somewhat complex plotting library\n",
        "\n",
        "**seaborn** Combines aesthetic appeal and technical insights – two crucial cogs in a data science\n",
        "\n",
        "**plotly** Graphing library used to make interactive, publication-quality graphs\n",
        "\n",
        "**pandas** The swiss army knife of large data manipulation\n",
        "\n",
        "**pillow** Python imaging library\n",
        "\n",
        "**openCV** Comprehensive computer vision library\n",
        "\n",
        "**tweepy** Twitter API\n",
        "\n",
        "**nltk** a humongous collection of libraries and corpora for natural language processing\n",
        "\n",
        "**spacy** a NLP library\n",
        "\n",
        "**Keras** Attempts to be a user friendly neural network library on top of tensorflow\n",
        "\n",
        "**Tensorflow** A symbolic library and dataflow programming toolkit very suited for complex mahine learning tasks\n",
        "\n",
        "**pyTorch** Similar to tensorflow but many find it easier to use"
      ]
    },
    {
      "cell_type": "markdown",
      "metadata": {
        "id": "fMwli5OOEGvF"
      },
      "source": [
        "###Dictionaries in Python"
      ]
    },
    {
      "cell_type": "code",
      "metadata": {
        "id": "1W-WJhKw-F96"
      },
      "source": [
        "#Create a dictionary\n",
        "capitals = {\"INDIA\" : \"New Delhi\", \"BA\" : \"Washington DC\", \"UK\" : \"London\" }"
      ],
      "execution_count": 110,
      "outputs": []
    },
    {
      "cell_type": "code",
      "metadata": {
        "colab": {
          "base_uri": "https://localhost:8080/",
          "height": 35
        },
        "id": "Llxi32YtIGPK",
        "outputId": "61fc6fa4-7fc9-4cfe-bc2c-62432404e8eb"
      },
      "source": [
        "capitals[\"BA\"]"
      ],
      "execution_count": 111,
      "outputs": [
        {
          "output_type": "execute_result",
          "data": {
            "application/vnd.google.colaboratory.intrinsic+json": {
              "type": "string"
            },
            "text/plain": [
              "'Washington DC'"
            ]
          },
          "metadata": {
            "tags": []
          },
          "execution_count": 111
        }
      ]
    },
    {
      "cell_type": "code",
      "metadata": {
        "colab": {
          "base_uri": "https://localhost:8080/",
          "height": 35
        },
        "id": "M-1zhGMyIjhc",
        "outputId": "cf27e880-f23a-4418-bed4-dc2eaae48446"
      },
      "source": [
        "capitals[\"INDIA\"]"
      ],
      "execution_count": 112,
      "outputs": [
        {
          "output_type": "execute_result",
          "data": {
            "application/vnd.google.colaboratory.intrinsic+json": {
              "type": "string"
            },
            "text/plain": [
              "'New Delhi'"
            ]
          },
          "metadata": {
            "tags": []
          },
          "execution_count": 112
        }
      ]
    },
    {
      "cell_type": "code",
      "metadata": {
        "id": "BuDsbuyV9_M_",
        "colab": {
          "base_uri": "https://localhost:8080/",
          "height": 166
        },
        "outputId": "4ec2e4bd-672e-4fde-c553-344d36062f70"
      },
      "source": [
        "capitals[\"India\"] # case sensitive"
      ],
      "execution_count": 113,
      "outputs": [
        {
          "output_type": "error",
          "ename": "KeyError",
          "evalue": "ignored",
          "traceback": [
            "\u001b[0;31m---------------------------------------------------------------------------\u001b[0m",
            "\u001b[0;31mKeyError\u001b[0m                                  Traceback (most recent call last)",
            "\u001b[0;32m<ipython-input-113-ea9c8e39da4d>\u001b[0m in \u001b[0;36m<module>\u001b[0;34m()\u001b[0m\n\u001b[0;32m----> 1\u001b[0;31m \u001b[0mcapitals\u001b[0m\u001b[0;34m[\u001b[0m\u001b[0;34m\"India\"\u001b[0m\u001b[0;34m]\u001b[0m\u001b[0;34m\u001b[0m\u001b[0;34m\u001b[0m\u001b[0m\n\u001b[0m",
            "\u001b[0;31mKeyError\u001b[0m: 'India'"
          ]
        }
      ]
    },
    {
      "cell_type": "code",
      "metadata": {
        "id": "Ihmi1tb53GSB",
        "colab": {
          "base_uri": "https://localhost:8080/"
        },
        "outputId": "24389c4a-875d-43d2-e94d-2075782baa34"
      },
      "source": [
        "len(capitals)"
      ],
      "execution_count": 115,
      "outputs": [
        {
          "output_type": "execute_result",
          "data": {
            "text/plain": [
              "3"
            ]
          },
          "metadata": {
            "tags": []
          },
          "execution_count": 115
        }
      ]
    },
    {
      "cell_type": "code",
      "metadata": {
        "colab": {
          "base_uri": "https://localhost:8080/"
        },
        "id": "OVcAvwcJI2nK",
        "outputId": "67b813a9-8394-47ce-feac-4664c9a6b53a"
      },
      "source": [
        "capitals.keys()"
      ],
      "execution_count": 117,
      "outputs": [
        {
          "output_type": "execute_result",
          "data": {
            "text/plain": [
              "dict_keys(['INDIA', 'BA', 'UK'])"
            ]
          },
          "metadata": {
            "tags": []
          },
          "execution_count": 117
        }
      ]
    },
    {
      "cell_type": "code",
      "metadata": {
        "colab": {
          "base_uri": "https://localhost:8080/"
        },
        "id": "8GcL_JatI501",
        "outputId": "210a12fe-5e84-46cf-9844-2d3ffc2a4c8a"
      },
      "source": [
        "capitals.values()"
      ],
      "execution_count": 119,
      "outputs": [
        {
          "output_type": "execute_result",
          "data": {
            "text/plain": [
              "dict_values(['New Delhi', 'Washington DC', 'London'])"
            ]
          },
          "metadata": {
            "tags": []
          },
          "execution_count": 119
        }
      ]
    },
    {
      "cell_type": "code",
      "metadata": {
        "colab": {
          "base_uri": "https://localhost:8080/"
        },
        "id": "SjD4dQ_NI78s",
        "outputId": "98c2dcd5-1d49-4bf6-9065-0e822b4e82af"
      },
      "source": [
        "capitals.items()"
      ],
      "execution_count": 120,
      "outputs": [
        {
          "output_type": "execute_result",
          "data": {
            "text/plain": [
              "dict_items([('INDIA', 'New Delhi'), ('BA', 'Washington DC'), ('UK', 'London')])"
            ]
          },
          "metadata": {
            "tags": []
          },
          "execution_count": 120
        }
      ]
    },
    {
      "cell_type": "code",
      "metadata": {
        "id": "wD71DZoDJCbY"
      },
      "source": [
        "capitals[\"UK\"] = \"\""
      ],
      "execution_count": 121,
      "outputs": []
    },
    {
      "cell_type": "code",
      "metadata": {
        "colab": {
          "base_uri": "https://localhost:8080/"
        },
        "id": "3bFVyA4_JLOx",
        "outputId": "a4a009c8-6992-416a-f1cc-43146f3f639e"
      },
      "source": [
        "len(capitals)"
      ],
      "execution_count": 122,
      "outputs": [
        {
          "output_type": "execute_result",
          "data": {
            "text/plain": [
              "3"
            ]
          },
          "metadata": {
            "tags": []
          },
          "execution_count": 122
        }
      ]
    },
    {
      "cell_type": "code",
      "metadata": {
        "colab": {
          "base_uri": "https://localhost:8080/"
        },
        "id": "Nfsdb4XBJMai",
        "outputId": "7dee633c-bd79-47a9-81c0-c310bb659615"
      },
      "source": [
        "capitals.items()"
      ],
      "execution_count": 123,
      "outputs": [
        {
          "output_type": "execute_result",
          "data": {
            "text/plain": [
              "dict_items([('INDIA', 'New Delhi'), ('BA', 'Washington DC'), ('UK', '')])"
            ]
          },
          "metadata": {
            "tags": []
          },
          "execution_count": 123
        }
      ]
    },
    {
      "cell_type": "code",
      "metadata": {
        "id": "X_HSQnwFJQE0"
      },
      "source": [
        "capitals[\"AFGANISTHAN\"] = \"Kabul\""
      ],
      "execution_count": 124,
      "outputs": []
    },
    {
      "cell_type": "code",
      "metadata": {
        "colab": {
          "base_uri": "https://localhost:8080/"
        },
        "id": "3cIivKsJJWuq",
        "outputId": "cbf751b9-781f-4c0b-d66b-173bc877eeab"
      },
      "source": [
        "capitals.items()"
      ],
      "execution_count": 125,
      "outputs": [
        {
          "output_type": "execute_result",
          "data": {
            "text/plain": [
              "dict_items([('INDIA', 'New Delhi'), ('BA', 'Washington DC'), ('UK', ''), ('AFGANISTHAN', 'Kabul')])"
            ]
          },
          "metadata": {
            "tags": []
          },
          "execution_count": 125
        }
      ]
    },
    {
      "cell_type": "code",
      "metadata": {
        "id": "9Cqif6UaJY31"
      },
      "source": [
        "capitals[(23,24)] = \"Number\" # dicts can contain tuples"
      ],
      "execution_count": 128,
      "outputs": []
    },
    {
      "cell_type": "code",
      "metadata": {
        "colab": {
          "base_uri": "https://localhost:8080/"
        },
        "id": "IwUSOQuqKpmG",
        "outputId": "99abe87c-2662-430d-ac11-e5190757be8f"
      },
      "source": [
        "capitals"
      ],
      "execution_count": 129,
      "outputs": [
        {
          "output_type": "execute_result",
          "data": {
            "text/plain": [
              "{(23, 24): 'Number',\n",
              " 'AFGANISTHAN': 'Kabul',\n",
              " 'BA': 'Washington DC',\n",
              " 'INDIA': 'New Delhi',\n",
              " 'UK': ''}"
            ]
          },
          "metadata": {
            "tags": []
          },
          "execution_count": 129
        }
      ]
    },
    {
      "cell_type": "code",
      "metadata": {
        "colab": {
          "base_uri": "https://localhost:8080/"
        },
        "id": "KOQEcMRvKqTC",
        "outputId": "5196d3cd-890f-4694-b733-27ee78304b32"
      },
      "source": [
        "for k in capitals.keys():\n",
        "  print (k,capitals[k])"
      ],
      "execution_count": 130,
      "outputs": [
        {
          "output_type": "stream",
          "text": [
            "INDIA New Delhi\n",
            "BA Washington DC\n",
            "UK \n",
            "AFGANISTHAN Kabul\n",
            "(23, 24) Number\n"
          ],
          "name": "stdout"
        }
      ]
    },
    {
      "cell_type": "code",
      "metadata": {
        "id": "wyPrdCzoLDyR"
      },
      "source": [
        "#Letter Count\n",
        "lettercount = {}"
      ],
      "execution_count": 131,
      "outputs": []
    },
    {
      "cell_type": "code",
      "metadata": {
        "id": "ME732kHFLQKO"
      },
      "source": [
        "s = \"TalentSprint is a digital platform designed to transform the lives of professionals in the new economy. Its blended bootcamps offer deeptech skills.\""
      ],
      "execution_count": 132,
      "outputs": []
    },
    {
      "cell_type": "code",
      "metadata": {
        "id": "1IfO64ABLSK-"
      },
      "source": [
        "for ch in s:\n",
        "  ch = ch.lower()\n",
        "  if ch not in lettercount:\n",
        "    lettercount[ch] = 1\n",
        "  else:\n",
        "    lettercount[ch] += 1\n"
      ],
      "execution_count": 133,
      "outputs": []
    },
    {
      "cell_type": "code",
      "metadata": {
        "colab": {
          "base_uri": "https://localhost:8080/"
        },
        "id": "12J3L10gPlsZ",
        "outputId": "29455616-4969-46b4-9c49-aa159b841629"
      },
      "source": [
        "lettercount"
      ],
      "execution_count": 134,
      "outputs": [
        {
          "output_type": "execute_result",
          "data": {
            "text/plain": [
              "{' ': 21,\n",
              " '.': 2,\n",
              " 'a': 7,\n",
              " 'b': 2,\n",
              " 'c': 3,\n",
              " 'd': 6,\n",
              " 'e': 15,\n",
              " 'f': 6,\n",
              " 'g': 2,\n",
              " 'h': 3,\n",
              " 'i': 10,\n",
              " 'k': 1,\n",
              " 'l': 8,\n",
              " 'm': 4,\n",
              " 'n': 9,\n",
              " 'o': 11,\n",
              " 'p': 5,\n",
              " 'r': 6,\n",
              " 's': 12,\n",
              " 't': 12,\n",
              " 'v': 1,\n",
              " 'w': 1,\n",
              " 'y': 1}"
            ]
          },
          "metadata": {
            "tags": []
          },
          "execution_count": 134
        }
      ]
    },
    {
      "cell_type": "code",
      "metadata": {
        "colab": {
          "base_uri": "https://localhost:8080/"
        },
        "id": "p3ZRsvj0PoEW",
        "outputId": "13aa68fc-7620-40cb-cfc0-97b62d406edd"
      },
      "source": [
        "lettercount.keys()"
      ],
      "execution_count": 135,
      "outputs": [
        {
          "output_type": "execute_result",
          "data": {
            "text/plain": [
              "dict_keys(['t', 'a', 'l', 'e', 'n', 's', 'p', 'r', 'i', ' ', 'd', 'g', 'f', 'o', 'm', 'h', 'v', 'w', 'c', 'y', '.', 'b', 'k'])"
            ]
          },
          "metadata": {
            "tags": []
          },
          "execution_count": 135
        }
      ]
    },
    {
      "cell_type": "code",
      "metadata": {
        "colab": {
          "base_uri": "https://localhost:8080/"
        },
        "id": "dtPtuSebPqSR",
        "outputId": "3fe7824e-610f-4b47-d055-0c1f2a183137"
      },
      "source": [
        "lettercount.values()"
      ],
      "execution_count": 136,
      "outputs": [
        {
          "output_type": "execute_result",
          "data": {
            "text/plain": [
              "dict_values([12, 7, 8, 15, 9, 12, 5, 6, 10, 21, 6, 2, 6, 11, 4, 3, 1, 1, 3, 1, 2, 2, 1])"
            ]
          },
          "metadata": {
            "tags": []
          },
          "execution_count": 136
        }
      ]
    },
    {
      "cell_type": "code",
      "metadata": {
        "colab": {
          "base_uri": "https://localhost:8080/"
        },
        "id": "OJM7YjmePsBT",
        "outputId": "5368bfd9-20e4-4efc-da94-00c3eb8bec25"
      },
      "source": [
        "lettercount.items()"
      ],
      "execution_count": 137,
      "outputs": [
        {
          "output_type": "execute_result",
          "data": {
            "text/plain": [
              "dict_items([('t', 12), ('a', 7), ('l', 8), ('e', 15), ('n', 9), ('s', 12), ('p', 5), ('r', 6), ('i', 10), (' ', 21), ('d', 6), ('g', 2), ('f', 6), ('o', 11), ('m', 4), ('h', 3), ('v', 1), ('w', 1), ('c', 3), ('y', 1), ('.', 2), ('b', 2), ('k', 1)])"
            ]
          },
          "metadata": {
            "tags": []
          },
          "execution_count": 137
        }
      ]
    },
    {
      "cell_type": "markdown",
      "metadata": {
        "id": "8Oj6n6fGQFZ-"
      },
      "source": [
        "### Notebook H: Collections, counter"
      ]
    },
    {
      "cell_type": "code",
      "metadata": {
        "colab": {
          "base_uri": "https://localhost:8080/"
        },
        "id": "GNjQHEtCQGAw",
        "outputId": "9ad4c96e-149a-43be-d7fd-c3033fbdfc9e"
      },
      "source": [
        "s = \"This is a sentence.\"\n",
        "import collections\n",
        "\n",
        "## Create a new Counter() object called frequencies\n",
        "frequencies = collections.Counter()\n",
        "\n",
        "## iterate through each letter in the sentence\n",
        "for letter in s:\n",
        "    \n",
        "    ## update the frequencies object with each letter.\n",
        "    ## the bookkeeping is done by the Counter()\n",
        "    frequencies.update(letter)\n",
        "\n",
        "print(frequencies)"
      ],
      "execution_count": 138,
      "outputs": [
        {
          "output_type": "stream",
          "text": [
            "Counter({'s': 3, ' ': 3, 'e': 3, 'i': 2, 'n': 2, 'T': 1, 'h': 1, 'a': 1, 't': 1, 'c': 1, '.': 1})\n"
          ],
          "name": "stdout"
        }
      ]
    },
    {
      "cell_type": "markdown",
      "metadata": {
        "id": "WNF8n0kpS2Bs"
      },
      "source": [
        "As you can see the Counter() made it very simple to calculate the frequencies. It has a minor flaw. It is not likely that we want to count upper case and lower case letters separately. We make the change below:"
      ]
    },
    {
      "cell_type": "code",
      "metadata": {
        "colab": {
          "base_uri": "https://localhost:8080/"
        },
        "id": "2ZNawQPES2k1",
        "outputId": "2e94c99d-96e9-4d63-f1bb-677a9bf0bd24"
      },
      "source": [
        "s = \"This is a sentence.\"\n",
        "import collections\n",
        "\n",
        "## Create a new Counter() object called frequencies\n",
        "frequencies = collections.Counter()\n",
        "\n",
        "## iterate through each letter in the sentence\n",
        "for letter in s:\n",
        "    \n",
        "    ## update the frequencies object with each letter.\n",
        "    ## the bookkeeping is done by the Counter()\n",
        "    ## convert letter to lower case first\n",
        "    frequencies.update(letter.lower())\n",
        "\n",
        "print(frequencies)"
      ],
      "execution_count": 139,
      "outputs": [
        {
          "output_type": "stream",
          "text": [
            "Counter({'s': 3, ' ': 3, 'e': 3, 't': 2, 'i': 2, 'n': 2, 'h': 1, 'a': 1, 'c': 1, '.': 1})\n"
          ],
          "name": "stdout"
        }
      ]
    },
    {
      "cell_type": "markdown",
      "metadata": {
        "id": "eyt2UOJJTGyq"
      },
      "source": [
        "By the way, Counter() is smart enough to count the individual elements, if a sequence of them is given. So we can do the above much more simply!"
      ]
    },
    {
      "cell_type": "code",
      "metadata": {
        "colab": {
          "base_uri": "https://localhost:8080/"
        },
        "id": "AzdgJNQWTIaY",
        "outputId": "4ee8354f-51c9-4806-97b8-4a9518029efd"
      },
      "source": [
        "s = \"This is a sentence.\"\n",
        "import collections\n",
        "frequencies = collections.Counter(s.lower())\n",
        "\n",
        "print(frequencies)"
      ],
      "execution_count": 140,
      "outputs": [
        {
          "output_type": "stream",
          "text": [
            "Counter({'s': 3, ' ': 3, 'e': 3, 't': 2, 'i': 2, 'n': 2, 'h': 1, 'a': 1, 'c': 1, '.': 1})\n"
          ],
          "name": "stdout"
        }
      ]
    },
    {
      "cell_type": "markdown",
      "metadata": {
        "id": "4kzbaN0UTTq_"
      },
      "source": [
        "Counter() does offer much more functionality."
      ]
    },
    {
      "cell_type": "code",
      "metadata": {
        "colab": {
          "base_uri": "https://localhost:8080/"
        },
        "id": "dzXJpF42TUH2",
        "outputId": "7363a3c2-8951-4710-e8c6-3530aafb1b73"
      },
      "source": [
        "s = \"This is a very long sentence, solely created to explain more features of collections.Counter\"\n",
        "import collections\n",
        "lett_freq = collections.Counter(s.lower())\n",
        "lett_freq.most_common(2)"
      ],
      "execution_count": 141,
      "outputs": [
        {
          "output_type": "execute_result",
          "data": {
            "text/plain": [
              "[(' ', 13), ('e', 13)]"
            ]
          },
          "metadata": {
            "tags": []
          },
          "execution_count": 141
        }
      ]
    },
    {
      "cell_type": "markdown",
      "metadata": {
        "id": "lxaT55gTTjzP"
      },
      "source": [
        "As you can see we fed a sentence and got back the top-5 frequently \n",
        "occurring letters, with their frequencies. So let us now write a function that finds the most frequently occurring **letter** in a given sentence. "
      ]
    },
    {
      "cell_type": "code",
      "metadata": {
        "id": "uQ6tQkMRTkUJ"
      },
      "source": [
        "def mostFreqLetter(s):\n",
        "    import collections\n",
        "    freq = collections.Counter()\n",
        "    for ch in s:\n",
        "        ch = ch.lower()\n",
        "        if 'a' <= ch <= 'z':\n",
        "            freq.update(ch)\n",
        "    return freq.most_common(1)[0]"
      ],
      "execution_count": 142,
      "outputs": []
    },
    {
      "cell_type": "code",
      "metadata": {
        "colab": {
          "base_uri": "https://localhost:8080/"
        },
        "id": "G5kBEnXQZsc2",
        "outputId": "ca4c937a-4224-4a5c-c5ed-32892fa045b5"
      },
      "source": [
        "mostFreqLetter(\"Old brother fox jumps over the lzay dog in this pangram of English\")"
      ],
      "execution_count": 143,
      "outputs": [
        {
          "output_type": "execute_result",
          "data": {
            "text/plain": [
              "('o', 6)"
            ]
          },
          "metadata": {
            "tags": []
          },
          "execution_count": 143
        }
      ]
    },
    {
      "cell_type": "markdown",
      "metadata": {
        "id": "nFEj8EjvZ0uR"
      },
      "source": [
        "**Counter() cannot count individual floats or integers**"
      ]
    },
    {
      "cell_type": "code",
      "metadata": {
        "colab": {
          "base_uri": "https://localhost:8080/",
          "height": 339
        },
        "id": "6d0k-5VEZ1MR",
        "outputId": "8fa40732-c1e8-4062-e472-701a6e65db55"
      },
      "source": [
        "f = [8, 1.2, 1.6, 3.2, 1, 1.2, 5, 600, 1, 3, 1.2, ]\n",
        "import collections\n",
        "freq = collections.Counter()\n",
        "for n in f:\n",
        "  freq.update(n)\n",
        "print(freq)"
      ],
      "execution_count": 145,
      "outputs": [
        {
          "output_type": "error",
          "ename": "TypeError",
          "evalue": "ignored",
          "traceback": [
            "\u001b[0;31m---------------------------------------------------------------------------\u001b[0m",
            "\u001b[0;31mTypeError\u001b[0m                                 Traceback (most recent call last)",
            "\u001b[0;32m<ipython-input-145-ed26097e681c>\u001b[0m in \u001b[0;36m<module>\u001b[0;34m()\u001b[0m\n\u001b[1;32m      3\u001b[0m \u001b[0mfreq\u001b[0m \u001b[0;34m=\u001b[0m \u001b[0mcollections\u001b[0m\u001b[0;34m.\u001b[0m\u001b[0mCounter\u001b[0m\u001b[0;34m(\u001b[0m\u001b[0;34m)\u001b[0m\u001b[0;34m\u001b[0m\u001b[0;34m\u001b[0m\u001b[0m\n\u001b[1;32m      4\u001b[0m \u001b[0;32mfor\u001b[0m \u001b[0mn\u001b[0m \u001b[0;32min\u001b[0m \u001b[0mf\u001b[0m\u001b[0;34m:\u001b[0m\u001b[0;34m\u001b[0m\u001b[0;34m\u001b[0m\u001b[0m\n\u001b[0;32m----> 5\u001b[0;31m   \u001b[0mfreq\u001b[0m\u001b[0;34m.\u001b[0m\u001b[0mupdate\u001b[0m\u001b[0;34m(\u001b[0m\u001b[0mn\u001b[0m\u001b[0;34m)\u001b[0m\u001b[0;34m\u001b[0m\u001b[0;34m\u001b[0m\u001b[0m\n\u001b[0m\u001b[1;32m      6\u001b[0m \u001b[0mprint\u001b[0m\u001b[0;34m(\u001b[0m\u001b[0mfreq\u001b[0m\u001b[0;34m)\u001b[0m\u001b[0;34m\u001b[0m\u001b[0;34m\u001b[0m\u001b[0m\n",
            "\u001b[0;32m/usr/lib/python3.7/collections/__init__.py\u001b[0m in \u001b[0;36mupdate\u001b[0;34m(*args, **kwds)\u001b[0m\n\u001b[1;32m    653\u001b[0m                     \u001b[0msuper\u001b[0m\u001b[0;34m(\u001b[0m\u001b[0mCounter\u001b[0m\u001b[0;34m,\u001b[0m \u001b[0mself\u001b[0m\u001b[0;34m)\u001b[0m\u001b[0;34m.\u001b[0m\u001b[0mupdate\u001b[0m\u001b[0;34m(\u001b[0m\u001b[0miterable\u001b[0m\u001b[0;34m)\u001b[0m \u001b[0;31m# fast path when counter is empty\u001b[0m\u001b[0;34m\u001b[0m\u001b[0;34m\u001b[0m\u001b[0m\n\u001b[1;32m    654\u001b[0m             \u001b[0;32melse\u001b[0m\u001b[0;34m:\u001b[0m\u001b[0;34m\u001b[0m\u001b[0;34m\u001b[0m\u001b[0m\n\u001b[0;32m--> 655\u001b[0;31m                 \u001b[0m_count_elements\u001b[0m\u001b[0;34m(\u001b[0m\u001b[0mself\u001b[0m\u001b[0;34m,\u001b[0m \u001b[0miterable\u001b[0m\u001b[0;34m)\u001b[0m\u001b[0;34m\u001b[0m\u001b[0;34m\u001b[0m\u001b[0m\n\u001b[0m\u001b[1;32m    656\u001b[0m         \u001b[0;32mif\u001b[0m \u001b[0mkwds\u001b[0m\u001b[0;34m:\u001b[0m\u001b[0;34m\u001b[0m\u001b[0;34m\u001b[0m\u001b[0m\n\u001b[1;32m    657\u001b[0m             \u001b[0mself\u001b[0m\u001b[0;34m.\u001b[0m\u001b[0mupdate\u001b[0m\u001b[0;34m(\u001b[0m\u001b[0mkwds\u001b[0m\u001b[0;34m)\u001b[0m\u001b[0;34m\u001b[0m\u001b[0;34m\u001b[0m\u001b[0m\n",
            "\u001b[0;31mTypeError\u001b[0m: 'int' object is not iterable"
          ]
        }
      ]
    },
    {
      "cell_type": "code",
      "metadata": {
        "colab": {
          "base_uri": "https://localhost:8080/"
        },
        "id": "xTZrt4r9Z98T",
        "outputId": "7b67f3a5-2fb3-4707-b6e4-6febb55ae760"
      },
      "source": [
        "f = [8, 1.2, 1.6, 3.2, 1, 1.2, 5, 600, 1, 3, 1.2, ]\n",
        "import collections\n",
        "freq = collections.Counter()\n",
        "freq.update(f)\n",
        "print(freq)\n",
        "print(freq.most_common(2))"
      ],
      "execution_count": 146,
      "outputs": [
        {
          "output_type": "stream",
          "text": [
            "Counter({1.2: 3, 1: 2, 8: 1, 1.6: 1, 3.2: 1, 5: 1, 600: 1, 3: 1})\n",
            "[(1.2, 3), (1, 2)]\n"
          ],
          "name": "stdout"
        }
      ]
    },
    {
      "cell_type": "markdown",
      "metadata": {
        "id": "AG6-MO0MbN5A"
      },
      "source": [
        "### Notebook I: Sets and Tuples in Python\n",
        "We saw earlier that a list is an ordered mutable collection. There’s also an ordered immutable collection.\n",
        "\n",
        "In Python these are called tuples and look very similar to lists, but typically written with () instead of []:\n",
        "Similar to how we used list before, you can also create a tuple via tuple(1,2,3).\n",
        "\n",
        "The difference being that tuples are immutable. This means no assignment, append, insert, pop, etc. Everything else works as it did with lists: indexing, getting the length, checking membership, etc.\n",
        "\n",
        "Another thing to note is that strictly speaking, the comma is what makes the tuple, not the parentheses. In practice it is a good idea to include the parentheses for clarity and because they are needed in some situations to make operator precedence clear."
      ]
    },
    {
      "cell_type": "code",
      "metadata": {
        "id": "DciOBqTzbOVv"
      },
      "source": [
        "a_list = [1, 2, 3]\n",
        "a_tuple = (1, 2, 3)"
      ],
      "execution_count": 147,
      "outputs": []
    },
    {
      "cell_type": "code",
      "metadata": {
        "colab": {
          "base_uri": "https://localhost:8080/"
        },
        "id": "0nvZQFb8bYSZ",
        "outputId": "379b1abe-1f9e-4fd8-b8d9-68547bf1fbe4"
      },
      "source": [
        "a_tuple = (4, 5, 6)\n",
        "b_tuple = 4, 5, 6 # Tuple Packaging\n",
        "a_tuple == b_tuple"
      ],
      "execution_count": 148,
      "outputs": [
        {
          "output_type": "execute_result",
          "data": {
            "text/plain": [
              "True"
            ]
          },
          "metadata": {
            "tags": []
          },
          "execution_count": 148
        }
      ]
    },
    {
      "cell_type": "code",
      "metadata": {
        "colab": {
          "base_uri": "https://localhost:8080/"
        },
        "id": "2AVRoKzCb2N8",
        "outputId": "41760886-af87-4abb-9515-6f72d064c7b1"
      },
      "source": [
        "a,b,c = a_tuple\n",
        "print(a,b,c)"
      ],
      "execution_count": 149,
      "outputs": [
        {
          "output_type": "stream",
          "text": [
            "4 5 6\n"
          ],
          "name": "stdout"
        }
      ]
    },
    {
      "cell_type": "code",
      "metadata": {
        "colab": {
          "base_uri": "https://localhost:8080/"
        },
        "id": "jhIhgD0Lb9FJ",
        "outputId": "3f0359be-65d7-437d-8836-4d6cca18f7a6"
      },
      "source": [
        "print(a)"
      ],
      "execution_count": 150,
      "outputs": [
        {
          "output_type": "stream",
          "text": [
            "4\n"
          ],
          "name": "stdout"
        }
      ]
    },
    {
      "cell_type": "code",
      "metadata": {
        "colab": {
          "base_uri": "https://localhost:8080/"
        },
        "id": "BV2G6g9tcGOI",
        "outputId": "34fa9326-362f-4dbd-f8f8-ff37d8ae4eae"
      },
      "source": [
        "x = (89)\n",
        "type(x)"
      ],
      "execution_count": 151,
      "outputs": [
        {
          "output_type": "execute_result",
          "data": {
            "text/plain": [
              "int"
            ]
          },
          "metadata": {
            "tags": []
          },
          "execution_count": 151
        }
      ]
    },
    {
      "cell_type": "code",
      "metadata": {
        "colab": {
          "base_uri": "https://localhost:8080/"
        },
        "id": "R2Z3aasdcLcT",
        "outputId": "ca259bff-b9dc-4697-ce8d-06595e8455e4"
      },
      "source": [
        "y = (89,)\n",
        "type(y)"
      ],
      "execution_count": 152,
      "outputs": [
        {
          "output_type": "execute_result",
          "data": {
            "text/plain": [
              "tuple"
            ]
          },
          "metadata": {
            "tags": []
          },
          "execution_count": 152
        }
      ]
    },
    {
      "cell_type": "markdown",
      "metadata": {
        "id": "asV0ghDyenEN"
      },
      "source": [
        "Items in a list have a definite order, which is what allows us to index into them or sort them. Sometimes you don’t care what the order of items is, simply whether the collection contains it or not. In this case Python has a special type that is probably not familiar to you from other languages: set.\n",
        "\n",
        "A set is an unordered, mutable collection. In math they’re typically denoted with {}, you can use the same in Python. The difference from dict syntax is that there aren’t key-value pairs separated by :.\n",
        "\n",
        "Many of the same operations you have on lists and tuples are available on set, but anything dealing with order isn’t. This means you can’t index into a set, or pop a specific element. "
      ]
    },
    {
      "cell_type": "code",
      "metadata": {
        "id": "FSO1cW2Deoww"
      },
      "source": [
        "s = set([1,2,3]) # Defining a Set"
      ],
      "execution_count": 153,
      "outputs": []
    },
    {
      "cell_type": "code",
      "metadata": {
        "colab": {
          "base_uri": "https://localhost:8080/"
        },
        "id": "z_z9aPzkeq6_",
        "outputId": "50ce4f7f-54a1-43f4-a34a-d3504e6f06e3"
      },
      "source": [
        "len(s)"
      ],
      "execution_count": 154,
      "outputs": [
        {
          "output_type": "execute_result",
          "data": {
            "text/plain": [
              "3"
            ]
          },
          "metadata": {
            "tags": []
          },
          "execution_count": 154
        }
      ]
    },
    {
      "cell_type": "code",
      "metadata": {
        "colab": {
          "base_uri": "https://localhost:8080/"
        },
        "id": "FAnOVBdfeuUd",
        "outputId": "7c170004-f51a-4902-b7e3-5e6d8bd81da9"
      },
      "source": [
        "type(s)"
      ],
      "execution_count": 155,
      "outputs": [
        {
          "output_type": "execute_result",
          "data": {
            "text/plain": [
              "set"
            ]
          },
          "metadata": {
            "tags": []
          },
          "execution_count": 155
        }
      ]
    },
    {
      "cell_type": "code",
      "metadata": {
        "colab": {
          "base_uri": "https://localhost:8080/",
          "height": 166
        },
        "id": "Lt8kCJoEex7k",
        "outputId": "80baa2a2-f2b6-4bb2-8052-fd47fde1fe08"
      },
      "source": [
        "s[1] # set doesn't support indexing"
      ],
      "execution_count": 156,
      "outputs": [
        {
          "output_type": "error",
          "ename": "TypeError",
          "evalue": "ignored",
          "traceback": [
            "\u001b[0;31m---------------------------------------------------------------------------\u001b[0m",
            "\u001b[0;31mTypeError\u001b[0m                                 Traceback (most recent call last)",
            "\u001b[0;32m<ipython-input-156-ceb0567fb37b>\u001b[0m in \u001b[0;36m<module>\u001b[0;34m()\u001b[0m\n\u001b[0;32m----> 1\u001b[0;31m \u001b[0ms\u001b[0m\u001b[0;34m[\u001b[0m\u001b[0;36m1\u001b[0m\u001b[0;34m]\u001b[0m \u001b[0;31m# set doesn't support indexing\u001b[0m\u001b[0;34m\u001b[0m\u001b[0;34m\u001b[0m\u001b[0m\n\u001b[0m",
            "\u001b[0;31mTypeError\u001b[0m: 'set' object is not subscriptable"
          ]
        }
      ]
    },
    {
      "cell_type": "code",
      "metadata": {
        "id": "M_n-Xg00e2gy"
      },
      "source": [
        "a = set([1, 2, 3, 4, 3, 3, 3, 2, 2,323, 3, 4]) # set can't have duplicate values"
      ],
      "execution_count": 157,
      "outputs": []
    },
    {
      "cell_type": "code",
      "metadata": {
        "colab": {
          "base_uri": "https://localhost:8080/"
        },
        "id": "MdyCFro8e9dX",
        "outputId": "1e3a897d-5860-43cc-b6f3-5051c3552d30"
      },
      "source": [
        "a"
      ],
      "execution_count": 158,
      "outputs": [
        {
          "output_type": "execute_result",
          "data": {
            "text/plain": [
              "{1, 2, 3, 4, 323}"
            ]
          },
          "metadata": {
            "tags": []
          },
          "execution_count": 158
        }
      ]
    },
    {
      "cell_type": "markdown",
      "metadata": {
        "id": "N0ghnYiUfHUs"
      },
      "source": [
        "We can make a set in two ways: set([]) or {[]}. However, we can not have dictionaries, lists, and other sets as a member of a set:\n"
      ]
    },
    {
      "cell_type": "code",
      "metadata": {
        "id": "b8Rn_ryqfHwY"
      },
      "source": [
        "a = set([1,2,3])"
      ],
      "execution_count": 159,
      "outputs": []
    },
    {
      "cell_type": "code",
      "metadata": {
        "colab": {
          "base_uri": "https://localhost:8080/"
        },
        "id": "Cmyal4cGfKhu",
        "outputId": "b432b46d-52b2-4b80-a50f-cd6a5d3c5eab"
      },
      "source": [
        "a"
      ],
      "execution_count": 160,
      "outputs": [
        {
          "output_type": "execute_result",
          "data": {
            "text/plain": [
              "{1, 2, 3}"
            ]
          },
          "metadata": {
            "tags": []
          },
          "execution_count": 160
        }
      ]
    },
    {
      "cell_type": "code",
      "metadata": {
        "id": "7FXWwkz3fLE6"
      },
      "source": [
        "b= {4,5,6}"
      ],
      "execution_count": 161,
      "outputs": []
    },
    {
      "cell_type": "code",
      "metadata": {
        "colab": {
          "base_uri": "https://localhost:8080/"
        },
        "id": "1CtN9kT0fN9r",
        "outputId": "e3e7fd0f-2edd-46b1-f3a6-343bde13a557"
      },
      "source": [
        "b"
      ],
      "execution_count": 162,
      "outputs": [
        {
          "output_type": "execute_result",
          "data": {
            "text/plain": [
              "{4, 5, 6}"
            ]
          },
          "metadata": {
            "tags": []
          },
          "execution_count": 162
        }
      ]
    },
    {
      "cell_type": "code",
      "metadata": {
        "id": "eqc5MnkwfOqV"
      },
      "source": [
        "x = set()"
      ],
      "execution_count": 163,
      "outputs": []
    },
    {
      "cell_type": "code",
      "metadata": {
        "id": "2fVzvcW4fZd7"
      },
      "source": [
        "x.add(6)"
      ],
      "execution_count": 164,
      "outputs": []
    },
    {
      "cell_type": "code",
      "metadata": {
        "colab": {
          "base_uri": "https://localhost:8080/"
        },
        "id": "dw3xdi_BfbLm",
        "outputId": "cc056561-1db3-4fc4-d7ae-a766c700237a"
      },
      "source": [
        "x"
      ],
      "execution_count": 165,
      "outputs": [
        {
          "output_type": "execute_result",
          "data": {
            "text/plain": [
              "{6}"
            ]
          },
          "metadata": {
            "tags": []
          },
          "execution_count": 165
        }
      ]
    },
    {
      "cell_type": "code",
      "metadata": {
        "id": "OpXacgGDfb3l"
      },
      "source": [
        "x.add(7)"
      ],
      "execution_count": 166,
      "outputs": []
    },
    {
      "cell_type": "code",
      "metadata": {
        "colab": {
          "base_uri": "https://localhost:8080/"
        },
        "id": "hm_nY35zfeh1",
        "outputId": "14453edd-b8b3-4d31-b311-ab6bfbde5dab"
      },
      "source": [
        "x"
      ],
      "execution_count": 167,
      "outputs": [
        {
          "output_type": "execute_result",
          "data": {
            "text/plain": [
              "{6, 7}"
            ]
          },
          "metadata": {
            "tags": []
          },
          "execution_count": 167
        }
      ]
    },
    {
      "cell_type": "markdown",
      "metadata": {
        "id": "8hLu5Ex1gEiu"
      },
      "source": [
        "We can add several members at once using update():\n"
      ]
    },
    {
      "cell_type": "code",
      "metadata": {
        "id": "qQK3rhBjgFEo"
      },
      "source": [
        "x.update([7,8])"
      ],
      "execution_count": 169,
      "outputs": []
    },
    {
      "cell_type": "code",
      "metadata": {
        "colab": {
          "base_uri": "https://localhost:8080/"
        },
        "id": "2pjWtFemgHeJ",
        "outputId": "314e9355-7114-46f9-c8d1-e58280d80a3e"
      },
      "source": [
        "x"
      ],
      "execution_count": 170,
      "outputs": [
        {
          "output_type": "execute_result",
          "data": {
            "text/plain": [
              "{6, 7, 8}"
            ]
          },
          "metadata": {
            "tags": []
          },
          "execution_count": 170
        }
      ]
    },
    {
      "cell_type": "code",
      "metadata": {
        "id": "yIKHVPQXfe6Y"
      },
      "source": [
        "a = {0, 2, 4, 6, 8}\n",
        "b = {1, 3, 4, 6, 9, 27}"
      ],
      "execution_count": 173,
      "outputs": []
    },
    {
      "cell_type": "code",
      "metadata": {
        "colab": {
          "base_uri": "https://localhost:8080/"
        },
        "id": "tV_AtZZVgNZR",
        "outputId": "b812891b-ea20-4005-e925-b66d571f800e"
      },
      "source": [
        "a.union(b)"
      ],
      "execution_count": 174,
      "outputs": [
        {
          "output_type": "execute_result",
          "data": {
            "text/plain": [
              "{0, 1, 2, 3, 4, 6, 8, 9, 27}"
            ]
          },
          "metadata": {
            "tags": []
          },
          "execution_count": 174
        }
      ]
    },
    {
      "cell_type": "code",
      "metadata": {
        "colab": {
          "base_uri": "https://localhost:8080/"
        },
        "id": "t9TarKsQgP2n",
        "outputId": "05b41dfe-0304-4379-fdce-7739757aeb3c"
      },
      "source": [
        "a.intersection(b)"
      ],
      "execution_count": 175,
      "outputs": [
        {
          "output_type": "execute_result",
          "data": {
            "text/plain": [
              "{4, 6}"
            ]
          },
          "metadata": {
            "tags": []
          },
          "execution_count": 175
        }
      ]
    },
    {
      "cell_type": "code",
      "metadata": {
        "id": "AXzkMZOSgWaM"
      },
      "source": [
        "a.intersection_update(b)"
      ],
      "execution_count": 176,
      "outputs": []
    },
    {
      "cell_type": "code",
      "metadata": {
        "colab": {
          "base_uri": "https://localhost:8080/"
        },
        "id": "hGN5e3tcgayu",
        "outputId": "477da609-eb2b-48c4-cef9-104dcf215c39"
      },
      "source": [
        "a"
      ],
      "execution_count": 177,
      "outputs": [
        {
          "output_type": "execute_result",
          "data": {
            "text/plain": [
              "{4, 6}"
            ]
          },
          "metadata": {
            "tags": []
          },
          "execution_count": 177
        }
      ]
    },
    {
      "cell_type": "code",
      "metadata": {
        "colab": {
          "base_uri": "https://localhost:8080/"
        },
        "id": "yvJB2Saygbpm",
        "outputId": "f17739d5-a55b-4ca7-c882-ce438dea4391"
      },
      "source": [
        "b"
      ],
      "execution_count": 178,
      "outputs": [
        {
          "output_type": "execute_result",
          "data": {
            "text/plain": [
              "{1, 3, 4, 6, 9, 27}"
            ]
          },
          "metadata": {
            "tags": []
          },
          "execution_count": 178
        }
      ]
    },
    {
      "cell_type": "code",
      "metadata": {
        "colab": {
          "base_uri": "https://localhost:8080/"
        },
        "id": "ZdROlmx6gcki",
        "outputId": "e33098ad-c25b-43ab-cb9a-b14a9a2da3c5"
      },
      "source": [
        "a.symmetric_difference(b)"
      ],
      "execution_count": 179,
      "outputs": [
        {
          "output_type": "execute_result",
          "data": {
            "text/plain": [
              "{1, 3, 9, 27}"
            ]
          },
          "metadata": {
            "tags": []
          },
          "execution_count": 179
        }
      ]
    },
    {
      "cell_type": "code",
      "metadata": {
        "id": "-9HzJbD0ggD3"
      },
      "source": [
        "a.symmetric_difference_update(b)"
      ],
      "execution_count": 180,
      "outputs": []
    },
    {
      "cell_type": "code",
      "metadata": {
        "colab": {
          "base_uri": "https://localhost:8080/"
        },
        "id": "ffxlRdA2glH0",
        "outputId": "a4b6e26e-0e33-46f8-f1c9-b19e9df909fa"
      },
      "source": [
        "a"
      ],
      "execution_count": 181,
      "outputs": [
        {
          "output_type": "execute_result",
          "data": {
            "text/plain": [
              "{1, 3, 9, 27}"
            ]
          },
          "metadata": {
            "tags": []
          },
          "execution_count": 181
        }
      ]
    },
    {
      "cell_type": "code",
      "metadata": {
        "colab": {
          "base_uri": "https://localhost:8080/"
        },
        "id": "5yepXqy6gmER",
        "outputId": "c42de350-343c-4f4f-d952-3d18178d0620"
      },
      "source": [
        "b"
      ],
      "execution_count": 182,
      "outputs": [
        {
          "output_type": "execute_result",
          "data": {
            "text/plain": [
              "{1, 3, 4, 6, 9, 27}"
            ]
          },
          "metadata": {
            "tags": []
          },
          "execution_count": 182
        }
      ]
    },
    {
      "cell_type": "code",
      "metadata": {
        "id": "RXZ8Jz60gm8E"
      },
      "source": [
        ""
      ],
      "execution_count": null,
      "outputs": []
    },
    {
      "cell_type": "code",
      "metadata": {
        "id": "zajpmPFZe-LJ"
      },
      "source": [
        ""
      ],
      "execution_count": null,
      "outputs": []
    },
    {
      "cell_type": "code",
      "metadata": {
        "id": "25_8PqZEcPov"
      },
      "source": [
        ""
      ],
      "execution_count": null,
      "outputs": []
    },
    {
      "cell_type": "code",
      "metadata": {
        "id": "ZavotrMxadHW"
      },
      "source": [
        ""
      ],
      "execution_count": null,
      "outputs": []
    },
    {
      "cell_type": "code",
      "metadata": {
        "id": "31BDW7uEZvG1"
      },
      "source": [
        ""
      ],
      "execution_count": null,
      "outputs": []
    },
    {
      "cell_type": "code",
      "metadata": {
        "id": "mDwjEHfFTYsX"
      },
      "source": [
        ""
      ],
      "execution_count": null,
      "outputs": []
    },
    {
      "cell_type": "code",
      "metadata": {
        "id": "92BHqf37TLNc"
      },
      "source": [
        ""
      ],
      "execution_count": null,
      "outputs": []
    },
    {
      "cell_type": "code",
      "metadata": {
        "id": "NLqxKRaaS53l"
      },
      "source": [
        ""
      ],
      "execution_count": null,
      "outputs": []
    },
    {
      "cell_type": "code",
      "metadata": {
        "id": "W6okzexQQxzd"
      },
      "source": [
        ""
      ],
      "execution_count": null,
      "outputs": []
    },
    {
      "cell_type": "code",
      "metadata": {
        "id": "TOcz3BkJI3r5"
      },
      "source": [
        ""
      ],
      "execution_count": null,
      "outputs": []
    }
  ]
}